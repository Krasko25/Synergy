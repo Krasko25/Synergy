{
 "cells": [
  {
   "cell_type": "code",
   "execution_count": 581,
   "id": "initial_id",
   "metadata": {
    "collapsed": true,
    "ExecuteTime": {
     "end_time": "2023-11-12T20:43:21.597823Z",
     "start_time": "2023-11-12T20:43:21.536902Z"
    }
   },
   "outputs": [],
   "source": [
    "#импорт модуля рандома\n",
    "from random import choice"
   ]
  },
  {
   "cell_type": "code",
   "execution_count": 582,
   "outputs": [],
   "source": [
    "def draw_board(board):\n",
    "    print(\" ..... ..... ..... \")\n",
    "    for i in range(3):\n",
    "        print(\"   \" + board[0 + i * 3] + \"  :  \" + board[1 + i * 3] + \"  :  \" + board[2 + i * 3] + \"   \")\n",
    "        print(\" ..... ..... ..... \")"
   ],
   "metadata": {
    "collapsed": false,
    "ExecuteTime": {
     "end_time": "2023-11-12T20:43:21.602977Z",
     "start_time": "2023-11-12T20:43:21.558512Z"
    }
   },
   "id": "90a489ed058b98c1"
  },
  {
   "cell_type": "code",
   "execution_count": 583,
   "outputs": [],
   "source": [
    "def get_player_move(board, figure, options):\n",
    "    print(\"Состояние доски на данный момент времени:\")\n",
    "    draw_board(board)\n",
    "    print(\"Укажите номер клетки, на которую вы хотите походить. Вы можете ввести 0, чтобы сдаться.\")\n",
    "    move = input(\"Ваш ход: \")\n",
    "    while not (move.isdigit() and (0 <= int(move) <= 9)):\n",
    "        move = input(\"Вы должны вести число от 0 до 9:\")\n",
    "    if int(move) == 0:\n",
    "        return\n",
    "    else:\n",
    "        board[int(move) - 1] = figure\n",
    "        options.remove(move)\n",
    "        return board, options"
   ],
   "metadata": {
    "collapsed": false,
    "ExecuteTime": {
     "end_time": "2023-11-12T20:43:21.603843Z",
     "start_time": "2023-11-12T20:43:21.574390Z"
    }
   },
   "id": "baea5d0e34ef98ba"
  },
  {
   "cell_type": "code",
   "execution_count": 584,
   "outputs": [],
   "source": [
    "def get_computer_move(board, figure, options):\n",
    "    move = choice(tuple(options))\n",
    "    options.remove(move)\n",
    "    board[int(move) - 1] = figure\n",
    "    print(\"Компьютер сделал ход.\")\n",
    "    return board, options"
   ],
   "metadata": {
    "collapsed": false,
    "ExecuteTime": {
     "end_time": "2023-11-12T20:43:21.604098Z",
     "start_time": "2023-11-12T20:43:21.591471Z"
    }
   },
   "id": "625bfc1b6e2c5eaa"
  },
  {
   "cell_type": "code",
   "execution_count": 585,
   "outputs": [],
   "source": [
    "def check_win(board):\n",
    "    for i in range(3):\n",
    "        if len(set([board[i*3], board[i*3 + 1], board[i*3 + 2]])) == 1:\n",
    "            return board[i*3]\n",
    "        if len(set([board[i], board[i + 3], board[i + 6]])) == 1:\n",
    "            return board[i]\n",
    "    if len(set([board[0], board[4], board[8]])) == 1 or len(set([board[2], board[4], board[6]])) == 1:\n",
    "        return board[5]\n",
    "            \n",
    "            "
   ],
   "metadata": {
    "collapsed": false,
    "ExecuteTime": {
     "end_time": "2023-11-12T20:43:21.647490Z",
     "start_time": "2023-11-12T20:43:21.610089Z"
    }
   },
   "id": "90ee872bb17134b6"
  },
  {
   "cell_type": "code",
   "execution_count": 586,
   "outputs": [
    {
     "name": "stdout",
     "output_type": "stream",
     "text": [
      "{'6', '9', '1', '3', '2', '4', '7', '8', '5'}\n",
      "Состояние доски на данный момент времени:\n",
      " ..... ..... ..... \n",
      "   1  :  2  :  3   \n",
      " ..... ..... ..... \n",
      "   4  :  5  :  6   \n",
      " ..... ..... ..... \n",
      "   7  :  8  :  9   \n",
      " ..... ..... ..... \n",
      "Укажите номер клетки, на которую вы хотите походить. Вы можете ввести 0, чтобы сдаться.\n",
      " ..... ..... ..... \n",
      "   1  :  x  :  3   \n",
      " ..... ..... ..... \n",
      "   4  :  5  :  6   \n",
      " ..... ..... ..... \n",
      "   7  :  8  :  9   \n",
      " ..... ..... ..... \n",
      "Компьютер сделал ход.\n",
      "Компьютер сделал ход.\n",
      "Компьютер сделал ход.\n",
      "Компьютер сделал ход.\n",
      "Компьютер сделал ход.\n",
      "['0', 'x', '3', '4', '0', '0', '0', '8', '0']\n",
      " ..... ..... ..... \n",
      "   0  :  x  :  3   \n",
      " ..... ..... ..... \n",
      "   4  :  0  :  0   \n",
      " ..... ..... ..... \n",
      "   0  :  8  :  0   \n",
      " ..... ..... ..... \n",
      "0\n"
     ]
    }
   ],
   "source": [
    "moves = [\"1\", \"2\", \"3\", \"4\", \"5\", \"6\", \"7\", \"8\", \"9\"]\n",
    "free_cells = set(\"123456789\")\n",
    "print(free_cells)\n",
    "p1_figure = 'x'\n",
    "p2_figure = '0'\n",
    "moves, free_cells = get_player_move(moves, p1_figure, free_cells)\n",
    "draw_board(moves)\n",
    "moves, free_cells = get_computer_move(moves, p2_figure, free_cells)\n",
    "moves, free_cells = get_computer_move(moves, p2_figure, free_cells)\n",
    "moves, free_cells = get_computer_move(moves, p2_figure, free_cells)\n",
    "moves, free_cells = get_computer_move(moves, p2_figure, free_cells)\n",
    "moves, free_cells = get_computer_move(moves, p2_figure, free_cells)\n",
    "print(moves)\n",
    "draw_board(moves)\n",
    "print(check_win(moves))"
   ],
   "metadata": {
    "collapsed": false,
    "ExecuteTime": {
     "end_time": "2023-11-12T20:43:22.729324Z",
     "start_time": "2023-11-12T20:43:21.625184Z"
    }
   },
   "id": "c3a7e4fd7f587145"
  },
  {
   "cell_type": "code",
   "execution_count": 586,
   "outputs": [],
   "source": [],
   "metadata": {
    "collapsed": false,
    "ExecuteTime": {
     "end_time": "2023-11-12T20:43:22.730182Z",
     "start_time": "2023-11-12T20:43:22.682495Z"
    }
   },
   "id": "b7b79233a7941074"
  }
 ],
 "metadata": {
  "kernelspec": {
   "display_name": "Python 3",
   "language": "python",
   "name": "python3"
  },
  "language_info": {
   "codemirror_mode": {
    "name": "ipython",
    "version": 2
   },
   "file_extension": ".py",
   "mimetype": "text/x-python",
   "name": "python",
   "nbconvert_exporter": "python",
   "pygments_lexer": "ipython2",
   "version": "2.7.6"
  }
 },
 "nbformat": 4,
 "nbformat_minor": 5
}
