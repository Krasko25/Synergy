{
 "cells": [
  {
   "cell_type": "markdown",
   "source": [
    "# Рекурсия"
   ],
   "metadata": {
    "collapsed": false
   },
   "id": "fa361a6decded350"
  },
  {
   "cell_type": "markdown",
   "source": [
    "Напишите рекурсивную функцию, которая находит максимальное число в заданном списке. Программа должна работать для любого количества чисел. Встроенную функцию max() использовать нельзя."
   ],
   "metadata": {
    "collapsed": false
   },
   "id": "3d3b67f3a126dfd3"
  },
  {
   "cell_type": "code",
   "execution_count": 127,
   "outputs": [],
   "source": [
    "#будем использовать псевдорандомные числа, чтобы заполнить списки\n",
    "from random import randint"
   ],
   "metadata": {
    "collapsed": false,
    "ExecuteTime": {
     "end_time": "2023-11-04T16:10:18.607335Z",
     "start_time": "2023-11-04T16:10:18.351310Z"
    }
   },
   "id": "f13f441256499cdb"
  },
  {
   "cell_type": "code",
   "execution_count": 128,
   "outputs": [],
   "source": [
    "#для удобства напишу функцию для генерации списков\n",
    "\n",
    "#amount - количество чисел в первом списке\n",
    "def generate_list(amount, lower_border, upper_border):\n",
    "    my_list = []\n",
    "\n",
    "    #генерируем и добавляем нужное количество чисел в список\n",
    "    for i in range(amount):\n",
    "        my_list.append(randint(lower_border, upper_border))\n",
    "\n",
    "    return my_list"
   ],
   "metadata": {
    "collapsed": false,
    "ExecuteTime": {
     "end_time": "2023-11-04T16:10:18.683298Z",
     "start_time": "2023-11-04T16:10:18.376176Z"
    }
   },
   "id": "3a5b23cba5bad2c3"
  },
  {
   "cell_type": "code",
   "execution_count": 129,
   "outputs": [
    {
     "name": "stdout",
     "output_type": "stream",
     "text": [
      "Cгенерированный список: 86 74 70 63 30 99 25 4 26 63\n"
     ]
    }
   ],
   "source": [
    "#сделаем проверку того, чтобы число элементов в множестве было больше нуля\n",
    "elem_amount = 0\n",
    "while elem_amount <= 0:\n",
    "    elem_amount = int(input(\"Количество элементов списка: \"))\n",
    "\n",
    "#вызываем функцию для генерации каждого списка\n",
    "list1 = generate_list(elem_amount,\n",
    "                      int(input(\"Минимальное генерируемое число: \")),\n",
    "                      int(input(\"Максимальное генерируемое число: \")))\n",
    "\n",
    "#вывод сгенерированного списка можно было включить в функцию, но я подумал, что может возникнуть ситуация, когда вывод списка будет лишним\n",
    "print(\"Cгенерированный список:\", *list1)"
   ],
   "metadata": {
    "collapsed": false,
    "ExecuteTime": {
     "end_time": "2023-11-04T16:10:25.854323Z",
     "start_time": "2023-11-04T16:10:18.432676Z"
    }
   },
   "id": "9d8d73446fe712f"
  },
  {
   "cell_type": "code",
   "execution_count": 130,
   "outputs": [],
   "source": [
    "#функция для нахождения наибольшего числа в списке\n",
    "def max_num(my_list, maximum):\n",
    "    #длина списка станет нулевой, когда рекурсия дойдет до конца списка\n",
    "    if len(my_list) == 0:\n",
    "        #к моменту, когда рекурсия дойдет до конца списка, максимальное число будет уже найдено, поэтому мы возвращаем эту переменную\n",
    "        return maximum\n",
    "    else:\n",
    "        #сравниваем первое число обрезанного списка с максимальным\n",
    "        if my_list[0] > maximum:\n",
    "            maximum = my_list[0]\n",
    "        #вызываем функцию, отдаем ей урезанный список\n",
    "        return max_num(my_list[1:], maximum)"
   ],
   "metadata": {
    "collapsed": false,
    "ExecuteTime": {
     "end_time": "2023-11-04T16:10:25.893562Z",
     "start_time": "2023-11-04T16:10:25.839534Z"
    }
   },
   "id": "27056d07b254b1ae"
  },
  {
   "cell_type": "code",
   "execution_count": 131,
   "outputs": [
    {
     "name": "stdout",
     "output_type": "stream",
     "text": [
      "Наибольшее число:  99\n"
     ]
    }
   ],
   "source": [
    "#в качестве первого кандидата на наибольшее число выбираем первое число в списке\n",
    "first_elem = list1[0]\n",
    "\n",
    "print(\"Наибольшее число: \", max_num(list1, first_elem))"
   ],
   "metadata": {
    "collapsed": false,
    "ExecuteTime": {
     "end_time": "2023-11-04T16:10:25.961798Z",
     "start_time": "2023-11-04T16:10:25.861219Z"
    }
   },
   "id": "dbf5aac5477f532"
  }
 ],
 "metadata": {
  "kernelspec": {
   "display_name": "Python 3",
   "language": "python",
   "name": "python3"
  },
  "language_info": {
   "codemirror_mode": {
    "name": "ipython",
    "version": 2
   },
   "file_extension": ".py",
   "mimetype": "text/x-python",
   "name": "python",
   "nbconvert_exporter": "python",
   "pygments_lexer": "ipython2",
   "version": "2.7.6"
  }
 },
 "nbformat": 4,
 "nbformat_minor": 5
}
