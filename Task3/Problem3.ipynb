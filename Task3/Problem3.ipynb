{
 "cells": [
  {
   "cell_type": "markdown",
   "source": [
    "Задача 3. Миша учит признаки делимости чисел на 7. Чтобы себя проверить, он написал программу, которая выводит все числа, кратные семи до числа n. Есть целое число n. Вывести в столбик все такие числа.\n"
   ],
   "metadata": {
    "collapsed": false
   },
   "id": "aa021a36271b280d"
  },
  {
   "cell_type": "code",
   "execution_count": 26,
   "outputs": [],
   "source": [
    "#ввод числа n\n",
    "n = int(input())"
   ],
   "metadata": {
    "collapsed": false,
    "ExecuteTime": {
     "end_time": "2023-10-14T17:53:25.828657Z",
     "start_time": "2023-10-14T17:53:24.119127Z"
    }
   },
   "id": "3627c3059c569330"
  },
  {
   "cell_type": "code",
   "execution_count": 27,
   "outputs": [],
   "source": [
    "while n < 7:\n",
    "    n = int(input(\"Введите число не меньше 7: \"))"
   ],
   "metadata": {
    "collapsed": false,
    "ExecuteTime": {
     "end_time": "2023-10-14T17:53:25.830863Z",
     "start_time": "2023-10-14T17:53:25.644428Z"
    }
   },
   "id": "ce8bdb7f7c5a422e"
  },
  {
   "cell_type": "markdown",
   "source": [
    "1 Вариант решения:"
   ],
   "metadata": {
    "collapsed": false
   },
   "id": "cf0bdd2b09de23cc"
  },
  {
   "cell_type": "code",
   "execution_count": 28,
   "outputs": [
    {
     "name": "stdout",
     "output_type": "stream",
     "text": [
      "7\n",
      "14\n",
      "21\n",
      "28\n",
      "35\n",
      "42\n",
      "49\n",
      "56\n",
      "63\n",
      "70\n",
      "77\n"
     ]
    }
   ],
   "source": [
    "#используем sep для того, чтобы числа выводились в столбик\n",
    "#используем range с шагом 7, чтобы вывести числа, кратные 7\n",
    "#используем \"*\" для распаковки данных из range\n",
    "print(*range(7, n+1, 7), sep='\\n')"
   ],
   "metadata": {
    "collapsed": false,
    "ExecuteTime": {
     "end_time": "2023-10-14T17:53:25.831720Z",
     "start_time": "2023-10-14T17:53:25.660186Z"
    }
   },
   "id": "16fe150a92717866"
  },
  {
   "cell_type": "markdown",
   "source": [
    "2 вариант решения:"
   ],
   "metadata": {
    "collapsed": false
   },
   "id": "c0a2b3a9456950e5"
  },
  {
   "cell_type": "code",
   "execution_count": 29,
   "outputs": [
    {
     "name": "stdout",
     "output_type": "stream",
     "text": [
      "7\n",
      "14\n",
      "21\n",
      "28\n",
      "35\n",
      "42\n",
      "49\n",
      "56\n",
      "63\n",
      "70\n",
      "77\n"
     ]
    }
   ],
   "source": [
    "#тоже самое, но более простая конструкция\n",
    "for i in range(7, n+1, 7):\n",
    "    print(i)"
   ],
   "metadata": {
    "collapsed": false,
    "ExecuteTime": {
     "end_time": "2023-10-14T17:53:25.832414Z",
     "start_time": "2023-10-14T17:53:25.671713Z"
    }
   },
   "id": "7d5151f1a3cd7854"
  },
  {
   "cell_type": "markdown",
   "source": [
    "3 вариант решения:"
   ],
   "metadata": {
    "collapsed": false
   },
   "id": "131169f7015e4b22"
  },
  {
   "cell_type": "code",
   "execution_count": 30,
   "outputs": [
    {
     "name": "stdout",
     "output_type": "stream",
     "text": [
      "7\n",
      "14\n",
      "21\n",
      "28\n",
      "35\n",
      "42\n",
      "49\n",
      "56\n",
      "63\n",
      "70\n",
      "77\n"
     ]
    }
   ],
   "source": [
    "#вариант с использованием остатка от деления\n",
    "for i in range(7, n):\n",
    "    if i % 7 == 0:\n",
    "        print(i)"
   ],
   "metadata": {
    "collapsed": false,
    "ExecuteTime": {
     "end_time": "2023-10-14T17:53:25.832882Z",
     "start_time": "2023-10-14T17:53:25.729781Z"
    }
   },
   "id": "f0a7b9387e4d837d"
  }
 ],
 "metadata": {
  "kernelspec": {
   "display_name": "Python 3",
   "language": "python",
   "name": "python3"
  },
  "language_info": {
   "codemirror_mode": {
    "name": "ipython",
    "version": 2
   },
   "file_extension": ".py",
   "mimetype": "text/x-python",
   "name": "python",
   "nbconvert_exporter": "python",
   "pygments_lexer": "ipython2",
   "version": "2.7.6"
  }
 },
 "nbformat": 4,
 "nbformat_minor": 5
}
