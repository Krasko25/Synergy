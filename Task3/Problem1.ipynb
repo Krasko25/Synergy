{
 "cells": [
  {
   "cell_type": "markdown",
   "source": [
    "# Операторы циклa\n"
   ],
   "metadata": {
    "collapsed": false
   },
   "id": "92b5db7451c2e9a2"
  },
  {
   "cell_type": "markdown",
   "source": [
    "Задача 1. Напишите программу, которая находит сумму цифр заданного числа. Например, для числа 123 сумма цифр равна 1 + 2 + 3 = 6"
   ],
   "metadata": {
    "collapsed": false
   },
   "id": "85cb95a87ea27de0"
  },
  {
   "cell_type": "code",
   "execution_count": 1,
   "outputs": [],
   "source": [
    "#получим число от пользователя\n",
    "n= int(input())\n",
    "\n",
    "#создадим переменную, в которую мы будем сохрянять сумму цифр\n",
    "total = 0\n",
    "\n",
    "#создаем копию n, чтобы не изменять оригинальное число\n",
    "copy = n"
   ],
   "metadata": {
    "collapsed": false,
    "ExecuteTime": {
     "end_time": "2023-10-14T16:53:54.977482Z",
     "start_time": "2023-10-14T16:53:51.319775Z"
    }
   },
   "id": "initial_id"
  },
  {
   "cell_type": "code",
   "execution_count": 2,
   "outputs": [
    {
     "name": "stdout",
     "output_type": "stream",
     "text": [
      "14\n"
     ]
    }
   ],
   "source": [
    "#проходим циклом по каждой цифре числа\n",
    "for _ in range(len(str(n))): #переводим n в строку, чтобы можно было узнать количество символов в нем при помощи функции len\n",
    "    \n",
    "    #добавляем последнее число к total\n",
    "    total += copy % 10\n",
    "    \n",
    "    #убираем последнее число из n\n",
    "    copy //= 10\n",
    "\n",
    "#выводим сумму чисел\n",
    "print(total)"
   ],
   "metadata": {
    "collapsed": false,
    "ExecuteTime": {
     "end_time": "2023-10-14T16:53:55.027681Z",
     "start_time": "2023-10-14T16:53:54.880741Z"
    }
   },
   "id": "d64ee6fa95df5b8f"
  }
 ],
 "metadata": {
  "kernelspec": {
   "display_name": "Python 3",
   "language": "python",
   "name": "python3"
  },
  "language_info": {
   "codemirror_mode": {
    "name": "ipython",
    "version": 2
   },
   "file_extension": ".py",
   "mimetype": "text/x-python",
   "name": "python",
   "nbconvert_exporter": "python",
   "pygments_lexer": "ipython2",
   "version": "2.7.6"
  }
 },
 "nbformat": 4,
 "nbformat_minor": 5
}
