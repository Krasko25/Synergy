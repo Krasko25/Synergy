{
 "cells": [
  {
   "cell_type": "markdown",
   "source": [
    "Задача 2. Вите очень понравилась идея Фёдора с калькулятором, он захотел создать свой, но чтобы не повторять идею друга полностью, решил сделать калькулятор, который перемножает числа от 1 до n. Тем более, у получившегося произведения есть название - факториал. Обозначается он так: n!\n",
    "Вводится натуральное число n. Выведи результат умножения чисел от 1 до n."
   ],
   "metadata": {
    "collapsed": false
   },
   "id": "23130c005841fb9d"
  },
  {
   "cell_type": "code",
   "execution_count": 20,
   "outputs": [],
   "source": [
    "#просим ввести число n\n",
    "n = int(input())"
   ],
   "metadata": {
    "collapsed": false,
    "ExecuteTime": {
     "end_time": "2023-10-14T17:03:41.860854Z",
     "start_time": "2023-10-14T17:03:40.552604Z"
    }
   },
   "id": "71858d20e69c6f5a"
  },
  {
   "cell_type": "code",
   "execution_count": 21,
   "outputs": [],
   "source": [
    "#проверяем правильность введенный данных\n",
    "while n < 2:\n",
    "    n = int(input('Вам стоит ввести число не меньше 1: '))"
   ],
   "metadata": {
    "collapsed": false,
    "ExecuteTime": {
     "end_time": "2023-10-14T17:03:42.002173Z",
     "start_time": "2023-10-14T17:03:41.847536Z"
    }
   },
   "id": "4788ea9d0664bcab"
  },
  {
   "cell_type": "code",
   "execution_count": 22,
   "outputs": [],
   "source": [
    "#mult - основа, так как мы будем производить умножение чисел, основа должна быть единицей\n",
    "mult = 1\n",
    "\n",
    "#основной цикл для получения факториала\n",
    "for i in range(1, n+1):\n",
    "    mult *= i"
   ],
   "metadata": {
    "collapsed": false,
    "ExecuteTime": {
     "end_time": "2023-10-14T17:03:42.002816Z",
     "start_time": "2023-10-14T17:03:41.860318Z"
    }
   },
   "id": "cb408deb55afe1dc"
  },
  {
   "cell_type": "code",
   "execution_count": 23,
   "outputs": [
    {
     "name": "stdout",
     "output_type": "stream",
     "text": [
      "3628800\n"
     ]
    }
   ],
   "source": [
    "#вывод результата\n",
    "print(mult)"
   ],
   "metadata": {
    "collapsed": false,
    "ExecuteTime": {
     "end_time": "2023-10-14T17:03:42.011382Z",
     "start_time": "2023-10-14T17:03:41.905469Z"
    }
   },
   "id": "2c59f49bede73212"
  }
 ],
 "metadata": {
  "kernelspec": {
   "display_name": "Python 3",
   "language": "python",
   "name": "python3"
  },
  "language_info": {
   "codemirror_mode": {
    "name": "ipython",
    "version": 2
   },
   "file_extension": ".py",
   "mimetype": "text/x-python",
   "name": "python",
   "nbconvert_exporter": "python",
   "pygments_lexer": "ipython2",
   "version": "2.7.6"
  }
 },
 "nbformat": 4,
 "nbformat_minor": 5
}
