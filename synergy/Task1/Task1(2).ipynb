{
 "cells": [
  {
   "cell_type": "markdown",
   "source": [
    "# Домашнее задание №1"
   ],
   "metadata": {
    "collapsed": false
   },
   "id": "55be07660eb906f2"
  },
  {
   "cell_type": "markdown",
   "source": [
    "Задание 2: \n",
    "Написать программу, которая будет находить среднее арифметическое двух чисел и округлять его до целого числа.\n",
    "\n",
    "Ввод двух чисел:"
   ],
   "metadata": {
    "collapsed": false
   },
   "id": "23de778144965738"
  },
  {
   "cell_type": "code",
   "execution_count": null,
   "outputs": [],
   "source": [
    "num1, num2 = float(input()), float(input())"
   ],
   "metadata": {
    "collapsed": false
   },
   "id": "1120164c5e886fa5"
  },
  {
   "cell_type": "markdown",
   "source": [
    "Половина суммы двух чисел:"
   ],
   "metadata": {
    "collapsed": false
   },
   "id": "cd7363b057d4118e"
  },
  {
   "cell_type": "code",
   "execution_count": null,
   "outputs": [],
   "source": [
    "sum = (num1 + num2) / 2"
   ],
   "metadata": {
    "collapsed": false
   },
   "id": "cc30ca3b6d947f64"
  },
  {
   "cell_type": "markdown",
   "source": [
    "Округление и вывод числа:"
   ],
   "metadata": {
    "collapsed": false
   },
   "id": "e12447d2d407cd31"
  },
  {
   "cell_type": "code",
   "execution_count": null,
   "outputs": [],
   "source": [
    "print(int(sum))"
   ],
   "metadata": {
    "collapsed": false
   },
   "id": "32ee381a59ce887e"
  }
 ],
 "metadata": {
  "kernelspec": {
   "display_name": "Python 3",
   "language": "python",
   "name": "python3"
  },
  "language_info": {
   "codemirror_mode": {
    "name": "ipython",
    "version": 2
   },
   "file_extension": ".py",
   "mimetype": "text/x-python",
   "name": "python",
   "nbconvert_exporter": "python",
   "pygments_lexer": "ipython2",
   "version": "2.7.6"
  }
 },
 "nbformat": 4,
 "nbformat_minor": 5
}
