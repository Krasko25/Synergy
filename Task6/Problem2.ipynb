{
 "cells": [
  {
   "cell_type": "markdown",
   "source": [
    "**Задание 2**: Напишите и вызовете для себя или какого-нибудь персонажа функцию, которая берёт на вход имя, фамилию, отчество и возраст и возвращает строку вида “Иванов Иван Иванович 1973 г.р. зарегистрирован”."
   ],
   "metadata": {
    "collapsed": false
   },
   "id": "e70d233b3b6bf2fc"
  },
  {
   "cell_type": "markdown",
   "source": [
    "В условии было сказано, что фукнция должна получать возраст, но также было сказано, что программа должна выводить год рождения. Не зная дату рождения, нельзя сказать точно, в каком году родился человек. Поэтому я предположу, что в условии опечатка и нам необходимо передать в функцию год рождения."
   ],
   "metadata": {
    "collapsed": false
   },
   "id": "f4720876712b13a4"
  },
  {
   "cell_type": "markdown",
   "source": [
    "1 Вариант:"
   ],
   "metadata": {
    "collapsed": false
   },
   "id": "d1cc889bf02a5ec9"
  },
  {
   "cell_type": "code",
   "execution_count": 4,
   "outputs": [],
   "source": [
    "def registration(name, surname, patronymic, year):\n",
    "    #используем f-строку для удобства\n",
    "    return f\"{surname} {name} {patronymic} {year} г.р. зарегистрирован\""
   ],
   "metadata": {
    "collapsed": false,
    "ExecuteTime": {
     "end_time": "2023-10-26T17:31:50.720091Z",
     "start_time": "2023-10-26T17:31:50.614224Z"
    }
   },
   "id": "a201f967debfc78c"
  },
  {
   "cell_type": "markdown",
   "source": [
    "2 Вариант (используя метод форматирования строк format)"
   ],
   "metadata": {
    "collapsed": false
   },
   "id": "7520841510868ff4"
  },
  {
   "cell_type": "code",
   "execution_count": 5,
   "outputs": [],
   "source": [
    "def registration2(name, surname, patronymic, year):\n",
    "    return \"{0} {1} {2} {3} г.р. зарегистрирован\".format(surname, name, patronymic, year)"
   ],
   "metadata": {
    "collapsed": false,
    "ExecuteTime": {
     "end_time": "2023-10-26T17:31:50.725754Z",
     "start_time": "2023-10-26T17:31:50.648484Z"
    }
   },
   "id": "925e25b8b1bab092"
  },
  {
   "cell_type": "code",
   "execution_count": 6,
   "outputs": [
    {
     "name": "stdout",
     "output_type": "stream",
     "text": [
      "Красько Михаил Андреевич 2005 г.р. зарегистрирован\n",
      "Красько Михаил Андреевич 2005 г.р. зарегистрирован\n"
     ]
    }
   ],
   "source": [
    "#получаем данные от пользователя\n",
    "first_name = input(\"Введите имя: \")\n",
    "last_name = input(\"Введите фамилию: \")\n",
    "middle_name = input(\"Введите отчество: \")\n",
    "birth_year = input(\"Введите год рождения: \")\n",
    "\n",
    "#вызываем функцию, выводим сразу её результат\n",
    "print(registration(first_name, last_name, middle_name, birth_year))\n",
    "\n",
    "#вывод с 2 способа:\n",
    "print(registration2(first_name, last_name, middle_name, birth_year))"
   ],
   "metadata": {
    "collapsed": false,
    "ExecuteTime": {
     "end_time": "2023-10-26T17:32:14.397647Z",
     "start_time": "2023-10-26T17:31:50.667430Z"
    }
   },
   "id": "fb2e82cc6eb4459"
  }
 ],
 "metadata": {
  "kernelspec": {
   "display_name": "Python 3",
   "language": "python",
   "name": "python3"
  },
  "language_info": {
   "codemirror_mode": {
    "name": "ipython",
    "version": 2
   },
   "file_extension": ".py",
   "mimetype": "text/x-python",
   "name": "python",
   "nbconvert_exporter": "python",
   "pygments_lexer": "ipython2",
   "version": "2.7.6"
  }
 },
 "nbformat": 4,
 "nbformat_minor": 5
}
