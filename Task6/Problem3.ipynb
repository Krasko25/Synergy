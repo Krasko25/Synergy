{
 "cells": [
  {
   "cell_type": "markdown",
   "source": [
    "**Задание 2:** Напишите функцию, которая берёт на вход 2 или 3 натуральных числа и возвращает их максимум. Встроенным методом max() пользоваться нельзя. Возможно, вам потребуется указать аргумент по умолчанию."
   ],
   "metadata": {
    "collapsed": false
   },
   "id": "9a35047186837696"
  },
  {
   "cell_type": "code",
   "execution_count": 39,
   "outputs": [],
   "source": [
    "from random import randint\n",
    "#задаем значение None в третьей функции по умолчанию, если 3 числа не будет, то программа не выдаст ошибку\n",
    "def maximum(num1, num2, num3=None):\n",
    "    #если num3 равно None, это значит, что число не было передано в функцию\n",
    "    if num3 == None:\n",
    "        return num1 if num1 > num2 else num2 \n",
    "    else:\n",
    "        #рассчеты на случай, если числа 3\n",
    "        greater = num1 if num1 > num2 else num2 \n",
    "        \n",
    "        #записали наибольшее число из двух в переменную и сравниваем его с третьим\n",
    "        return greater if greater > num3 else num3"
   ],
   "metadata": {
    "collapsed": false,
    "ExecuteTime": {
     "end_time": "2023-10-26T18:28:47.913367Z",
     "start_time": "2023-10-26T18:28:47.893618Z"
    }
   },
   "id": "914192c3819519ee"
  },
  {
   "cell_type": "code",
   "execution_count": 40,
   "outputs": [
    {
     "name": "stdout",
     "output_type": "stream",
     "text": [
      "38 - это максимальное число из списка: 2 38\n",
      "52 - это максимальное число из списка: 2 38 52\n"
     ]
    }
   ],
   "source": [
    "#генерация случайных чисел\n",
    "n1 = randint(1, 100)\n",
    "n2 = randint(1, 100)\n",
    "n3 = randint(1, 100)\n",
    "\n",
    "#вводим 2 числа\n",
    "print(maximum(n1, n2), \"- это максимальное число из списка:\", n1, n2)\n",
    "\n",
    "#вводим 3 числа\n",
    "print(maximum(n1, n2, n3), \"- это максимальное число из списка:\", n1, n2, n3)"
   ],
   "metadata": {
    "collapsed": false,
    "ExecuteTime": {
     "end_time": "2023-10-26T18:28:47.936016Z",
     "start_time": "2023-10-26T18:28:47.915607Z"
    }
   },
   "id": "d45e8e0ab506a98f"
  }
 ],
 "metadata": {
  "kernelspec": {
   "display_name": "Python 3",
   "language": "python",
   "name": "python3"
  },
  "language_info": {
   "codemirror_mode": {
    "name": "ipython",
    "version": 2
   },
   "file_extension": ".py",
   "mimetype": "text/x-python",
   "name": "python",
   "nbconvert_exporter": "python",
   "pygments_lexer": "ipython2",
   "version": "2.7.6"
  }
 },
 "nbformat": 4,
 "nbformat_minor": 5
}
