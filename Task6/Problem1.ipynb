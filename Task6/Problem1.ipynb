{
 "cells": [
  {
   "cell_type": "markdown",
   "source": [
    "# Функции часть 1."
   ],
   "metadata": {
    "collapsed": false
   },
   "id": "73a842c69074534e"
  },
  {
   "cell_type": "markdown",
   "source": [
    "**Задание 1**: Напишите функцию, которая берёт на вход строку и возвращает true, если она является палиндромом и false в противном случае."
   ],
   "metadata": {
    "collapsed": false
   },
   "id": "a811c03fd3d7b91e"
  },
  {
   "cell_type": "code",
   "execution_count": 32,
   "outputs": [
    {
     "name": "stdout",
     "output_type": "stream",
     "text": [
      "Введите строку, если она является палиндромом, то программа выведет 'True'\n"
     ]
    }
   ],
   "source": [
    "print(\"Введите строку, если она является палиндромом, то программа выведет 'True'\")"
   ],
   "metadata": {
    "collapsed": false,
    "ExecuteTime": {
     "end_time": "2023-10-26T17:04:16.972314Z",
     "start_time": "2023-10-26T17:04:16.926364Z"
    }
   },
   "id": "79fff7c9462a41d0"
  },
  {
   "cell_type": "markdown",
   "source": [
    "Вариант 1:"
   ],
   "metadata": {
    "collapsed": false
   },
   "id": "47c973eb003453fc"
  },
  {
   "cell_type": "code",
   "execution_count": 33,
   "outputs": [
    {
     "name": "stdout",
     "output_type": "stream",
     "text": [
      "True\n"
     ]
    }
   ],
   "source": [
    "def palindrome(s):\n",
    "    #убераем пробелы, так как, в большинстве случаев, различие в пробелах не принято считать признаком не палинтромности строк\n",
    "    s = s.replace(' ', '')\n",
    "    \n",
    "    #используем срезы, чтобы перевернуть строку\n",
    "    return s == s[::-1]\n",
    "\n",
    "#получаем строку от пользователя и передаём её в функцию\n",
    "print(palindrome(input()))"
   ],
   "metadata": {
    "collapsed": false,
    "ExecuteTime": {
     "end_time": "2023-10-26T17:04:21.582846Z",
     "start_time": "2023-10-26T17:04:16.944556Z"
    }
   },
   "id": "7704fd9816332eb8"
  },
  {
   "cell_type": "markdown",
   "source": [
    "Вариант 2:"
   ],
   "metadata": {
    "collapsed": false
   },
   "id": "9bb1e46a720ccf51"
  },
  {
   "cell_type": "code",
   "execution_count": 34,
   "outputs": [
    {
     "name": "stdout",
     "output_type": "stream",
     "text": [
      "True\n"
     ]
    }
   ],
   "source": [
    "def palindrome2(s):\n",
    "    #та же причина, что и в 1 варианте\n",
    "    s = s.replace(' ', '')\n",
    "    \n",
    "    #используем метод reversed, чтобы перевернуть строку s\n",
    "    #так как метод reversed возвращает иттератор, то для сравнения легче всего будет перевести оба значения к спискам\n",
    "    return list(s) == list(reversed(s))\n",
    "\n",
    "#получаем строку от пользователя и передаём её в функцию\n",
    "print(palindrome2(input()))"
   ],
   "metadata": {
    "collapsed": false,
    "ExecuteTime": {
     "end_time": "2023-10-26T17:04:23.739369Z",
     "start_time": "2023-10-26T17:04:21.506763Z"
    }
   },
   "id": "9c2bdae849a96929"
  }
 ],
 "metadata": {
  "kernelspec": {
   "display_name": "Python 3",
   "language": "python",
   "name": "python3"
  },
  "language_info": {
   "codemirror_mode": {
    "name": "ipython",
    "version": 2
   },
   "file_extension": ".py",
   "mimetype": "text/x-python",
   "name": "python",
   "nbconvert_exporter": "python",
   "pygments_lexer": "ipython2",
   "version": "2.7.6"
  }
 },
 "nbformat": 4,
 "nbformat_minor": 5
}
