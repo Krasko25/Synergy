{
 "cells": [
  {
   "cell_type": "markdown",
   "metadata": {},
   "source": [
    "**Задача 1:**\n",
    "Придумайте сложную алгебраическую функцию, там могут быть синусы и косинусы, возведения в степень и деления, всё, что вашей душе угодно. Напишите её с помощью def, чтобы она брала на вход x, а возвращала результат.\n",
    "\n",
    "Сгенерируйте X- координаты точки с помощью np.linspace(), а Y получите, положив X в вашу функцию. Нарисуйте график, подпишите оси и сделайте подпись всей картинки(титульник). Сделайте так, чтобы на вашем графике были клеточки, график был пунктиром и зелёного цвета, а ещё полупрозрачным, и, чтобы к нему была подпись “Вот такая моя функция”. \n",
    "\n",
    "<hr>"
   ]
  },
  {
   "cell_type": "code",
   "execution_count": 15,
   "metadata": {},
   "outputs": [],
   "source": [
    "import matplotlib.pyplot as plt\n",
    "import numpy as np"
   ]
  },
  {
   "cell_type": "code",
   "execution_count": 16,
   "metadata": {},
   "outputs": [],
   "source": [
    "#функция с алгебраическими операторами\n",
    "def func(num):\n",
    "    return (((np.sin(num)) ** 0.5 + np.cos(num * num)) / 4) ** 2"
   ]
  },
  {
   "cell_type": "code",
   "execution_count": null,
   "metadata": {},
   "outputs": [],
   "source": [
    "#создание сетки\n",
    "plt.grid()\n",
    "\n",
    "#подписывание осей\n",
    "plt.xlabel(\"X\")\n",
    "plt.ylabel(\"Y\")\n",
    "\n",
    "#подпись графика\n",
    "plt.title(\"Задача 1\")\n",
    "\n",
    "#диапазон значений x\n",
    "x = np.linspace(0, 6, 100)\n",
    "\n",
    "#подпись\n",
    "plt.text(1, 0, \"Вот такая моя функция\")\n",
    "\n",
    "#диаграмма\n",
    "#dashes - пунктирная линия\n",
    "#alpha - прозрачность\n",
    "plt.plot(x, func(x), color='g', dashes=[6, 3], alpha=0.5)\n",
    "\n",
    "plt.show()"
   ]
  }
 ],
 "metadata": {
  "kernelspec": {
   "display_name": "part2",
   "language": "python",
   "name": "python3"
  },
  "language_info": {
   "codemirror_mode": {
    "name": "ipython",
    "version": 3
   },
   "file_extension": ".py",
   "mimetype": "text/x-python",
   "name": "python",
   "nbconvert_exporter": "python",
   "pygments_lexer": "ipython3",
   "version": "3.8.5"
  }
 },
 "nbformat": 4,
 "nbformat_minor": 2
}
