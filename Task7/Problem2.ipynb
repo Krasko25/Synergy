{
 "cells": [
  {
   "cell_type": "markdown",
   "source": [
    "**Задача 2.** Напишите программу на Python для поиска чисел из списка, кратных девятнадцати или тринадцати, используя filter и  Lambda."
   ],
   "metadata": {
    "collapsed": false
   },
   "id": "bdb17664c00b763b"
  },
  {
   "cell_type": "code",
   "execution_count": 13,
   "outputs": [],
   "source": [
    "#будем использовать псевдорандомные числа, чтобы заполнить списки\n",
    "from random import randint"
   ],
   "metadata": {
    "collapsed": false,
    "ExecuteTime": {
     "end_time": "2023-10-28T16:39:34.783631Z",
     "start_time": "2023-10-28T16:39:34.702324Z"
    }
   },
   "id": "9eb0e4606f29b430"
  },
  {
   "cell_type": "code",
   "execution_count": 14,
   "outputs": [],
   "source": [
    "#для удобства напишу функцию для генерации списков\n",
    "\n",
    "#amount - количество чисел в первом списке\n",
    "def generate_list(amount, lower_border, upper_border):\n",
    "    my_list = []\n",
    "\n",
    "    #генерируем и добавляем нужное количество чисел в список\n",
    "    for i in range(amount):\n",
    "        my_list.append(randint(lower_border, upper_border))\n",
    "\n",
    "    return my_list"
   ],
   "metadata": {
    "collapsed": false,
    "ExecuteTime": {
     "end_time": "2023-10-28T16:39:34.794410Z",
     "start_time": "2023-10-28T16:39:34.724279Z"
    }
   },
   "id": "ec6f238d7a933ed4"
  },
  {
   "cell_type": "code",
   "execution_count": 15,
   "outputs": [
    {
     "name": "stdout",
     "output_type": "stream",
     "text": [
      "Cгенерированный список: 99 80 21 52 73 74 65 114 92 63 117 83 150 51 73 97 30 64 72 75 109 64 11 131 77 74 23 78 55 137 144 107 119 108 51 115 105 118 57 82 120 16 43 105 35 99 150 60 78 25 76 98 101 109 58 79 127 23 76 43 93 63 118 61 106 43 57 79 81 118 41 52 124 119 54 18 37 70 50 91 127 74 119 17 130 13 23 68 132 93 126 109 132 128 64 76 95 96 68 150\n"
     ]
    }
   ],
   "source": [
    "#вызываем функцию для генерации каждого списка\n",
    "list1 = generate_list(int(input(\"Количество элементов списка: \")),\n",
    "                      int(input(\"Минимальное генерируемое число: \")), \n",
    "                      int(input(\"Максимальное генерируемое число: \")))\n",
    "\n",
    "#вывод сгенерированного списка можно было включить в функцию, но я подумал, что может возникнуть ситуация, когда вывод списка будет лишним\n",
    "print(\"Cгенерированный список:\", *list1)"
   ],
   "metadata": {
    "collapsed": false,
    "ExecuteTime": {
     "end_time": "2023-10-28T16:39:46.155496Z",
     "start_time": "2023-10-28T16:39:34.747945Z"
    }
   },
   "id": "e562f368d8f3fbf5"
  },
  {
   "cell_type": "code",
   "execution_count": 16,
   "outputs": [
    {
     "name": "stdout",
     "output_type": "stream",
     "text": [
      "52 65 114 117 78 57 78 76 76 57 52 91 130 13 76 95\n"
     ]
    }
   ],
   "source": [
    "print(*list(filter(lambda elem: elem % 19 == 0 or elem % 13 == 0, list1)))\n",
    "\n",
    "#вариант для удобного чтения:\n",
    "# func = lambda elem: elem % 19 == 0 or elem % 13 == 0\n",
    "# \n",
    "# print(*list(filter(func, list1)))"
   ],
   "metadata": {
    "collapsed": false,
    "ExecuteTime": {
     "end_time": "2023-10-28T16:39:46.180342Z",
     "start_time": "2023-10-28T16:39:46.154517Z"
    }
   },
   "id": "b837c8b830737645"
  }
 ],
 "metadata": {
  "kernelspec": {
   "display_name": "Python 3",
   "language": "python",
   "name": "python3"
  },
  "language_info": {
   "codemirror_mode": {
    "name": "ipython",
    "version": 2
   },
   "file_extension": ".py",
   "mimetype": "text/x-python",
   "name": "python",
   "nbconvert_exporter": "python",
   "pygments_lexer": "ipython2",
   "version": "2.7.6"
  }
 },
 "nbformat": 4,
 "nbformat_minor": 5
}
