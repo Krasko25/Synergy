{
 "cells": [
  {
   "cell_type": "markdown",
   "source": [
    "**Задача 3.** Напишите программу на Python для вычисления наибольшего элемента в списке при помощи reduce"
   ],
   "metadata": {
    "collapsed": false
   },
   "id": "b46863bb045fd98b"
  },
  {
   "cell_type": "code",
   "execution_count": 29,
   "outputs": [],
   "source": [
    "#будем использовать псевдорандомные числа, чтобы заполнить списки\n",
    "from random import randint"
   ],
   "metadata": {
    "collapsed": false,
    "ExecuteTime": {
     "end_time": "2023-10-28T16:57:17.490746Z",
     "start_time": "2023-10-28T16:57:17.355382Z"
    }
   },
   "id": "e1bf374fd7540cc0"
  },
  {
   "cell_type": "code",
   "execution_count": 30,
   "outputs": [],
   "source": [
    "#для удобства напишу функцию для генерации списков\n",
    "\n",
    "#amount - количество чисел в первом списке\n",
    "def generate_list(amount, lower_border, upper_border):\n",
    "    my_list = []\n",
    "\n",
    "    #генерируем и добавляем нужное количество чисел в список\n",
    "    for i in range(amount):\n",
    "        my_list.append(randint(lower_border, upper_border))\n",
    "\n",
    "    return my_list"
   ],
   "metadata": {
    "collapsed": false,
    "ExecuteTime": {
     "end_time": "2023-10-28T16:57:17.499232Z",
     "start_time": "2023-10-28T16:57:17.383452Z"
    }
   },
   "id": "5f29f1a44c08b1fe"
  },
  {
   "cell_type": "code",
   "execution_count": 31,
   "outputs": [
    {
     "name": "stdout",
     "output_type": "stream",
     "text": [
      "Cгенерированный список: 217 433 399 500 392 561 346 933 966 886\n"
     ]
    }
   ],
   "source": [
    "#вызываем функцию для генерации каждого списка\n",
    "list1 = generate_list(int(input(\"Количество элементов списка: \")),\n",
    "                      int(input(\"Минимальное генерируемое число: \")),\n",
    "                      int(input(\"Максимальное генерируемое число: \")))\n",
    "\n",
    "#вывод сгенерированного списка можно было включить в функцию, но я подумал, что может возникнуть ситуация, когда вывод списка будет лишним\n",
    "print(\"Cгенерированный список:\", *list1)"
   ],
   "metadata": {
    "collapsed": false,
    "ExecuteTime": {
     "end_time": "2023-10-28T16:57:21.161079Z",
     "start_time": "2023-10-28T16:57:17.404195Z"
    }
   },
   "id": "173447e831721d57"
  },
  {
   "cell_type": "code",
   "execution_count": 32,
   "outputs": [],
   "source": [
    "#импортируем reduce\n",
    "from functools import reduce"
   ],
   "metadata": {
    "collapsed": false,
    "ExecuteTime": {
     "end_time": "2023-10-28T16:57:21.183191Z",
     "start_time": "2023-10-28T16:57:21.151368Z"
    }
   },
   "id": "2c2d81ee48dc1c72"
  },
  {
   "cell_type": "code",
   "execution_count": 33,
   "outputs": [
    {
     "name": "stdout",
     "output_type": "stream",
     "text": [
      "966\n"
     ]
    }
   ],
   "source": [
    "#reduce возвращает число, поэтому можно не преобразовывать полученные данные\n",
    "print(\"Результат:\", reduce(lambda num1, num2: num1 if num1 > num2 else num2, list1))\n",
    "\n",
    "# #удобный для чтения вариант\n",
    "# func = lambda num1, num2: num1 if num1 > num2\n",
    "# \n",
    "# print(\"Результат:\", reduce(func, list1))"
   ],
   "metadata": {
    "collapsed": false,
    "ExecuteTime": {
     "end_time": "2023-10-28T16:57:21.239315Z",
     "start_time": "2023-10-28T16:57:21.179473Z"
    }
   },
   "id": "ee177820a423dddb"
  }
 ],
 "metadata": {
  "kernelspec": {
   "display_name": "Python 3",
   "language": "python",
   "name": "python3"
  },
  "language_info": {
   "codemirror_mode": {
    "name": "ipython",
    "version": 2
   },
   "file_extension": ".py",
   "mimetype": "text/x-python",
   "name": "python",
   "nbconvert_exporter": "python",
   "pygments_lexer": "ipython2",
   "version": "2.7.6"
  }
 },
 "nbformat": 4,
 "nbformat_minor": 5
}
