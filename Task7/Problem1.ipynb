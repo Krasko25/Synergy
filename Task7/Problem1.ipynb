{
 "cells": [
  {
   "cell_type": "markdown",
   "source": [
    "# **Функции и процедуры. ч2**"
   ],
   "metadata": {
    "collapsed": false
   },
   "id": "194a181bc51ad81d"
  },
  {
   "cell_type": "markdown",
   "source": [
    "**Задача 1.** Напишите программу на Python для поочередного сложения элементов двух заданных списков, используя map и lambda."
   ],
   "metadata": {
    "collapsed": false
   },
   "id": "443a0048adc63713"
  },
  {
   "cell_type": "code",
   "execution_count": 1,
   "outputs": [],
   "source": [
    "#будем использовать псевдорандомные числа, чтобы заполнить списки\n",
    "from random import randint"
   ],
   "metadata": {
    "collapsed": false,
    "ExecuteTime": {
     "end_time": "2023-11-02T16:54:45.967318Z",
     "start_time": "2023-11-02T16:54:45.919052Z"
    }
   },
   "id": "869a8fd32306a039"
  },
  {
   "cell_type": "code",
   "execution_count": 2,
   "outputs": [],
   "source": [
    "#для удобства напишу функцию для генерации списков\n",
    "\n",
    "#amount - количество чисел в первом списке\n",
    "def generate_list(amount, lower_border, upper_border):\n",
    "    my_list = []\n",
    "    \n",
    "    #генерируем и добавляем нужное количество чисел в список\n",
    "    for i in range(amount):\n",
    "        my_list.append(randint(lower_border, upper_border))\n",
    "        \n",
    "    return my_list"
   ],
   "metadata": {
    "collapsed": false,
    "ExecuteTime": {
     "end_time": "2023-11-02T16:54:46.016538Z",
     "start_time": "2023-11-02T16:54:45.968370Z"
    }
   },
   "id": "fdf50dbde147d1cb"
  },
  {
   "cell_type": "code",
   "execution_count": 3,
   "outputs": [
    {
     "name": "stdout",
     "output_type": "stream",
     "text": [
      "Первый сгенерированный список: 77 15 7 73 85 26 77 38 78 53\n",
      "Второй сгенерированный список: 51 24 98 11 23 66 26 83 42 65 42 81 48 65 36 16 7 57 83 41\n"
     ]
    }
   ],
   "source": [
    "#вызываем функцию для генерации каждого списка\n",
    "list1 = generate_list(int(input(\"Количество элементов первого списка: \")), \n",
    "                      int(input(\"Минимальное генерируемое число: \")), \n",
    "                      int(input(\"Максимальное генерируемое число: \")))\n",
    "\n",
    "#вывод сгенерированного списка можно было включить в функцию, но я подумал, что может возникнуть ситуация, когда вывод списка будет лишним\n",
    "print(\"Первый сгенерированный список:\", *list1)\n",
    "\n",
    "list2 = generate_list(int(input(\"Количество элементов второго списка: \")), \n",
    "                      int(input(\"Минимальное генерируемое число: \")), \n",
    "                      int(input(\"Максимальное генерируемое число: \")))\n",
    "\n",
    "print(\"Второй сгенерированный список:\", *list2)"
   ],
   "metadata": {
    "collapsed": false,
    "ExecuteTime": {
     "end_time": "2023-11-02T16:55:01.161109Z",
     "start_time": "2023-11-02T16:54:46.014549Z"
    }
   },
   "id": "44057cb4d2747d1a"
  },
  {
   "cell_type": "code",
   "execution_count": 4,
   "outputs": [],
   "source": [
    "#обновленная часть кода:\n",
    "\n",
    "#на всякий случай создаем оригинал списков\n",
    "list1_original = list1.copy()\n",
    "list2_original = list2.copy()\n",
    "\n",
    "#повторяем цикл до тех пор, пока списки не будут одной длины\n",
    "while len(list1) != len(list2):\n",
    "    \n",
    "    #добавляем 0 к более короткому списку, так как мы вычисляем сумму, то на результат это не повлияет\n",
    "    if len(list1) > len(list2):\n",
    "        list2.append(0)\n",
    "    else:\n",
    "        list1.append(0)"
   ],
   "metadata": {
    "collapsed": false,
    "ExecuteTime": {
     "end_time": "2023-11-02T16:55:01.162847Z",
     "start_time": "2023-11-02T16:55:01.149322Z"
    }
   },
   "id": "dbbb0f7caaae042c"
  },
  {
   "cell_type": "code",
   "execution_count": 5,
   "outputs": [
    {
     "name": "stdout",
     "output_type": "stream",
     "text": [
      "128 39 105 84 108 92 103 121 120 118 42 81 48 65 36 16 7 57 83 41\n"
     ]
    }
   ],
   "source": [
    "#если длина списков отличается, то итоговый иттератор обрежется до длины того, что короче\n",
    "#так как map возвращает иттератор, то преобразуем его в список\n",
    "print(*list(map(lambda elem1, elem2: elem1 + elem2, list1, list2)))\n",
    "\n",
    "#для того, чтобы было удобней читать, можно записать это выражение так:\n",
    "# summa = lambda elem1, elem2: elem1 + elem2\n",
    "# \n",
    "# print(*list(map(summa, list1, list2)))"
   ],
   "metadata": {
    "collapsed": false,
    "ExecuteTime": {
     "end_time": "2023-11-02T16:55:01.260085Z",
     "start_time": "2023-11-02T16:55:01.180874Z"
    }
   },
   "id": "75a5ca1e7cb808ef"
  }
 ],
 "metadata": {
  "kernelspec": {
   "display_name": "Python 3",
   "language": "python",
   "name": "python3"
  },
  "language_info": {
   "codemirror_mode": {
    "name": "ipython",
    "version": 2
   },
   "file_extension": ".py",
   "mimetype": "text/x-python",
   "name": "python",
   "nbconvert_exporter": "python",
   "pygments_lexer": "ipython2",
   "version": "2.7.6"
  }
 },
 "nbformat": 4,
 "nbformat_minor": 5
}
