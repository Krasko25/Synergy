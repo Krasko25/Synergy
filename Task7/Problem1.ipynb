{
 "cells": [
  {
   "cell_type": "markdown",
   "source": [
    "# **Функции и процедуры. ч2**"
   ],
   "metadata": {
    "collapsed": false
   },
   "id": "194a181bc51ad81d"
  },
  {
   "cell_type": "markdown",
   "source": [
    "**Задача 1.** Напишите программу на Python для поочередного сложения элементов двух заданных списков, используя map и lambda."
   ],
   "metadata": {
    "collapsed": false
   },
   "id": "443a0048adc63713"
  },
  {
   "cell_type": "code",
   "execution_count": 32,
   "outputs": [],
   "source": [
    "#будем использовать псевдорандомные числа, чтобы заполнить списки\n",
    "from random import randint"
   ],
   "metadata": {
    "collapsed": false,
    "ExecuteTime": {
     "end_time": "2023-10-28T16:29:26.318506Z",
     "start_time": "2023-10-28T16:29:26.255764Z"
    }
   },
   "id": "869a8fd32306a039"
  },
  {
   "cell_type": "code",
   "execution_count": 33,
   "outputs": [],
   "source": [
    "#для удобства напишу функцию для генерации списков\n",
    "\n",
    "#amount - количество чисел в первом списке\n",
    "def generate_list(amount, lower_border, upper_border):\n",
    "    my_list = []\n",
    "    \n",
    "    #генерируем и добавляем нужное количество чисел в список\n",
    "    for i in range(amount):\n",
    "        my_list.append(randint(lower_border, upper_border))\n",
    "        \n",
    "    return my_list"
   ],
   "metadata": {
    "collapsed": false,
    "ExecuteTime": {
     "end_time": "2023-10-28T16:29:26.321015Z",
     "start_time": "2023-10-28T16:29:26.280436Z"
    }
   },
   "id": "fdf50dbde147d1cb"
  },
  {
   "cell_type": "code",
   "execution_count": 34,
   "outputs": [
    {
     "name": "stdout",
     "output_type": "stream",
     "text": [
      "Первый сгенерированный список: -41 76 -84 27 -53 9 -98 -67 13 99\n",
      "Второй сгенерированный список: 22 18 101 109 76 42 85 113 101 82 119 38 72 64 52 54 92 83 44 22 120 59 27 27 16 108 15 112 115 78\n"
     ]
    }
   ],
   "source": [
    "#вызываем функцию для генерации каждого списка\n",
    "list1 = generate_list(int(input(\"Количество элементов первого списка: \")), \n",
    "                      int(input(\"Минимальное генерируемое число: \")), \n",
    "                      int(input(\"Максимальное генерируемое число: \")))\n",
    "\n",
    "#вывод сгенерированного списка можно было включить в функцию, но я подумал, что может возникнуть ситуация, когда вывод списка будет лишним\n",
    "print(\"Первый сгенерированный список:\", *list1)\n",
    "\n",
    "list2 = generate_list(int(input(\"Количество элементов второго списка: \")), \n",
    "                      int(input(\"Минимальное генерируемое число: \")), \n",
    "                      int(input(\"Максимальное генерируемое число: \")))\n",
    "\n",
    "print(\"Второй сгенерированный список:\", *list2)"
   ],
   "metadata": {
    "collapsed": false,
    "ExecuteTime": {
     "end_time": "2023-10-28T16:29:37.585623Z",
     "start_time": "2023-10-28T16:29:26.304215Z"
    }
   },
   "id": "44057cb4d2747d1a"
  },
  {
   "cell_type": "code",
   "execution_count": 35,
   "outputs": [
    {
     "name": "stdout",
     "output_type": "stream",
     "text": [
      "-19 94 17 136 23 51 -13 46 114 181\n"
     ]
    }
   ],
   "source": [
    "#если длина списков отличается, то итоговый иттератор обрежется до длины того, что короче\n",
    "#так как map возвращает иттератор, то преобразуем его в список\n",
    "print(*list(map(lambda elem1, elem2: elem1 + elem2, list1, list2)))\n",
    "\n",
    "#для того, чтобы было удобней читать, можно записать это выражение так:\n",
    "# summa = lambda elem1, elem2: elem1 + elem2\n",
    "# \n",
    "# print(*list(map(summa, list1, list2)))"
   ],
   "metadata": {
    "collapsed": false,
    "ExecuteTime": {
     "end_time": "2023-10-28T16:29:37.605090Z",
     "start_time": "2023-10-28T16:29:37.578703Z"
    }
   },
   "id": "75a5ca1e7cb808ef"
  }
 ],
 "metadata": {
  "kernelspec": {
   "display_name": "Python 3",
   "language": "python",
   "name": "python3"
  },
  "language_info": {
   "codemirror_mode": {
    "name": "ipython",
    "version": 2
   },
   "file_extension": ".py",
   "mimetype": "text/x-python",
   "name": "python",
   "nbconvert_exporter": "python",
   "pygments_lexer": "ipython2",
   "version": "2.7.6"
  }
 },
 "nbformat": 4,
 "nbformat_minor": 5
}
