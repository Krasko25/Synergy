{
 "cells": [
  {
   "cell_type": "markdown",
   "source": [
    "<b>Задача 2.</b> Младшая сестра Фёдора - Соня пишет сочинение по литературе и отправляет файлы учительнице. \n",
    "Фёдор знает, что Соня никогда не ставит заглавные буквы, так как для набора текста использует компьютер. Пока никто не видит, Фёдор решил внести исправления в сочинение сестры и написал программу, которая восстанавливает заглавные буквы в строке. \n",
    "Программа работает по следующему алгоритму: \n",
    "* сделать заглавной первую букву в строке, не считая пробелы; \n",
    "* сделать заглавной первую букву после точки, восклицательного или вопросительного знака, не считая пробелы. \n",
    "Ввод: на этом заканчиваю свое сочинение. поставьте пятерку, Мария Ивановна! я очень старалась!\n",
    "Вывод: На этом заканчиваю свое сочинение. Поставьте пятерку, Мария Ивановна! Я очень старалась!"
   ],
   "metadata": {
    "collapsed": false
   },
   "id": "2909b37f0e76be36"
  },
  {
   "cell_type": "code",
   "execution_count": 15,
   "outputs": [],
   "source": [
    "#запрашиваем текст\n",
    "text = input(\"Введите текст: \")"
   ],
   "metadata": {
    "collapsed": false,
    "ExecuteTime": {
     "end_time": "2023-10-21T19:59:47.517296Z",
     "start_time": "2023-10-21T19:59:45.247600Z"
    }
   },
   "id": "17d40dc4f5a88e6f"
  },
  {
   "cell_type": "code",
   "execution_count": 16,
   "outputs": [],
   "source": [
    "#избавляемся от лишних пробелов в конце и начале текста\n",
    "text = text.strip()"
   ],
   "metadata": {
    "collapsed": false,
    "ExecuteTime": {
     "end_time": "2023-10-21T19:59:47.562229Z",
     "start_time": "2023-10-21T19:59:47.487138Z"
    }
   },
   "id": "42e11c5ba1b4026d"
  },
  {
   "cell_type": "code",
   "execution_count": 17,
   "outputs": [],
   "source": [
    "#заменяем первую букву в тексте на её заглавную версию\n",
    "#единица указывает на то, что замена должна происходить только 1 раз\n",
    "text = text.replace(text[0], text[0].upper(), 1)\n",
    "\n",
    "#создаем массив со словами из текста\n",
    "temp = text.split()"
   ],
   "metadata": {
    "collapsed": false,
    "ExecuteTime": {
     "end_time": "2023-10-21T19:59:47.574114Z",
     "start_time": "2023-10-21T19:59:47.514660Z"
    }
   },
   "id": "7880987b64728a5b"
  },
  {
   "cell_type": "code",
   "execution_count": 18,
   "outputs": [],
   "source": [
    "#циклом проходимся по всем словам в массиве, кроме последнего\n",
    "for i in range(len(temp) - 1):\n",
    "    \n",
    "    #проверяем, является ли последний символ в слове знаком окончания предложения\n",
    "    if temp[i][-1] in '.!?':\n",
    "        \n",
    "        #заменяем следующее слово на его вариант, в котором 1 раз заменили первую букву на заглавную\n",
    "        temp[i+1] = temp[i+1].replace(temp[i+1][0], temp[i+1][0].upper(), 1)"
   ],
   "metadata": {
    "collapsed": false,
    "ExecuteTime": {
     "end_time": "2023-10-21T19:59:47.604310Z",
     "start_time": "2023-10-21T19:59:47.536220Z"
    }
   },
   "id": "620300ddbb35eb13"
  },
  {
   "cell_type": "code",
   "execution_count": 19,
   "outputs": [
    {
     "name": "stdout",
     "output_type": "stream",
     "text": [
      "На этом заканчиваю свое сочинение. Поставьте пятерку, Мария Ивановна! Я очень старалась!\n"
     ]
    }
   ],
   "source": [
    "#соединяем слова из массива в текст\n",
    "result = ' '.join(temp)\n",
    "\n",
    "#вывод результата\n",
    "print(result)"
   ],
   "metadata": {
    "collapsed": false,
    "ExecuteTime": {
     "end_time": "2023-10-21T19:59:47.607514Z",
     "start_time": "2023-10-21T19:59:47.571382Z"
    }
   },
   "id": "b40c4f6e39d3a72f"
  }
 ],
 "metadata": {
  "kernelspec": {
   "display_name": "Python 3",
   "language": "python",
   "name": "python3"
  },
  "language_info": {
   "codemirror_mode": {
    "name": "ipython",
    "version": 2
   },
   "file_extension": ".py",
   "mimetype": "text/x-python",
   "name": "python",
   "nbconvert_exporter": "python",
   "pygments_lexer": "ipython2",
   "version": "2.7.6"
  }
 },
 "nbformat": 4,
 "nbformat_minor": 5
}
