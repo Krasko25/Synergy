{
 "cells": [
  {
   "cell_type": "markdown",
   "source": [
    "# Типы данных. Повторение, решение задач.\n"
   ],
   "metadata": {
    "collapsed": false
   },
   "id": "59b79623909a603c"
  },
  {
   "cell_type": "markdown",
   "source": [
    "<b>Задача 1.</b> Нужно написать программу, которая бы вычисляла количество городов, названия которых повторяются. В первой строке указывается количество городов n, затем вводятся n строк с названиями городов.\n",
    "Ввод: \n",
    "6\n",
    "Курск\n",
    "Калуга\n",
    "Анапа\n",
    "Анапа\n",
    "Абинск\n",
    "Курск\n",
    "Вывод: 4"
   ],
   "metadata": {
    "collapsed": false
   },
   "id": "5b0ffbd3864f3795"
  },
  {
   "cell_type": "code",
   "execution_count": 28,
   "outputs": [],
   "source": [
    "#получаем число городов\n",
    "n = int(input(\"Введите количество названий городов, которое вы хотите передать в программу: \"))"
   ],
   "metadata": {
    "collapsed": false,
    "ExecuteTime": {
     "end_time": "2023-10-21T16:56:51.491206Z",
     "start_time": "2023-10-21T16:56:49.444331Z"
    }
   },
   "id": "d48e96a43deca34d"
  },
  {
   "cell_type": "code",
   "execution_count": 29,
   "outputs": [],
   "source": [
    "#создадим словарь для хранения количества повторений названия города\n",
    "cities = {}\n",
    "counter = 0"
   ],
   "metadata": {
    "collapsed": false,
    "ExecuteTime": {
     "end_time": "2023-10-21T16:56:51.493440Z",
     "start_time": "2023-10-21T16:56:51.447842Z"
    }
   },
   "id": "c95868d6f2bf8964"
  },
  {
   "cell_type": "code",
   "execution_count": 30,
   "outputs": [],
   "source": [
    "#цикл для подсчета количества повторений названий городов\n",
    "for i in range(n):\n",
    "    city = input(\"Введите название города: \")\n",
    "    \n",
    "    #при помощи метода .get задаём значение 1 для городов, которые попадаются первый раз, и считающее количество вхождений для повторных названий\n",
    "    cities[city] = cities.get(city, 0) + 1"
   ],
   "metadata": {
    "collapsed": false,
    "ExecuteTime": {
     "end_time": "2023-10-21T16:56:56.996173Z",
     "start_time": "2023-10-21T16:56:51.480992Z"
    }
   },
   "id": "d9c34694caa4f5bc"
  },
  {
   "cell_type": "code",
   "execution_count": 31,
   "outputs": [],
   "source": [
    "#цикл, который проходит по всем названиям городов и складывает количество появлений городов, если такое количество больше единицы\n",
    "for town in cities:\n",
    "    if cities[town] > 1:\n",
    "        counter += cities[town]"
   ],
   "metadata": {
    "collapsed": false,
    "ExecuteTime": {
     "end_time": "2023-10-21T16:56:57.017350Z",
     "start_time": "2023-10-21T16:56:56.999903Z"
    }
   },
   "id": "88a226a7db375a87"
  },
  {
   "cell_type": "code",
   "execution_count": 32,
   "outputs": [
    {
     "name": "stdout",
     "output_type": "stream",
     "text": [
      "Количество повторяющихся названий городов:  5\n"
     ]
    }
   ],
   "source": [
    "print(\"Количество повторяющихся названий городов: \", counter)"
   ],
   "metadata": {
    "collapsed": false,
    "ExecuteTime": {
     "end_time": "2023-10-21T16:56:57.043498Z",
     "start_time": "2023-10-21T16:56:57.024065Z"
    }
   },
   "id": "ea91d87919b66f8e"
  }
 ],
 "metadata": {
  "kernelspec": {
   "display_name": "Python 3",
   "language": "python",
   "name": "python3"
  },
  "language_info": {
   "codemirror_mode": {
    "name": "ipython",
    "version": 2
   },
   "file_extension": ".py",
   "mimetype": "text/x-python",
   "name": "python",
   "nbconvert_exporter": "python",
   "pygments_lexer": "ipython2",
   "version": "2.7.6"
  }
 },
 "nbformat": 4,
 "nbformat_minor": 5
}
