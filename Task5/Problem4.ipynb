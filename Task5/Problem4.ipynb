{
 "cells": [
  {
   "cell_type": "markdown",
   "source": [
    "<b>Задача 4.</b> В олимпиаде по математике школьникам было предложено решить одну задачу по алгебре, одну по геометрии и одну по тригонометрии. Напишите программу, которая определяет, сколько учащихся решили все задачи.\n",
    "<b>Формат ввода:</b>\n",
    "На вход подается три строки:\n",
    "\t•\tв первой строке указаны фамилии школьников, решивших задачу по алгебре;\n",
    "\t•\tво второй строке указаны фамилии школьников, решивших задачу по геометрии;\n",
    "\t•\tв третьей строке указаны фамилии школьников, которые решили задачу по тригонометрии.\n",
    "<b>Формат вывода:</b>\n",
    "Требуется вывести в алфавитном порядке через пробел фамилии учащихся, решивших все три задачи олимпиады. Если таких нет, вывести строку \"Все три задачи никто не решил\".\n",
    "<b>Ввод</b>: \n",
    "Иванов Петров Сидоров Михайлов\n",
    "Иванов Михайлов\n",
    "Сидоров Михайлов\n",
    "<b>Вывод</b>: Михайлов\n"
   ],
   "metadata": {
    "collapsed": false
   },
   "id": "1e3731a747bf610a"
  },
  {
   "cell_type": "code",
   "execution_count": 9,
   "outputs": [],
   "source": [
    "#получаем строки с именами учеников, сдавших олимпиады\n",
    "algebra = input(\"Фамилии учеников по алгебре: \")\n",
    "geometry = input(\"Фамилии учеников по геометрии: \")\n",
    "trigonometry = input(\"Фамилии учеников по тригонометрии: \")"
   ],
   "metadata": {
    "collapsed": false,
    "ExecuteTime": {
     "end_time": "2023-10-22T10:26:16.704739Z",
     "start_time": "2023-10-22T10:26:02.421367Z"
    }
   },
   "id": "5f4548f698702f6b"
  },
  {
   "cell_type": "code",
   "execution_count": 10,
   "outputs": [],
   "source": [
    "#разбиваем строки на имена и преобразуем списки в множества\n",
    "algebra = set(algebra.split())\n",
    "geometry = set(geometry.split())\n",
    "trigonometry = set(trigonometry.split())"
   ],
   "metadata": {
    "collapsed": false,
    "ExecuteTime": {
     "end_time": "2023-10-22T10:26:16.744688Z",
     "start_time": "2023-10-22T10:26:16.734735Z"
    }
   },
   "id": "5d21220a27d7893e"
  },
  {
   "cell_type": "code",
   "execution_count": 11,
   "outputs": [],
   "source": [
    "#находим пересечение множеств\n",
    "result = algebra & geometry & trigonometry"
   ],
   "metadata": {
    "collapsed": false,
    "ExecuteTime": {
     "end_time": "2023-10-22T10:26:16.774492Z",
     "start_time": "2023-10-22T10:26:16.735186Z"
    }
   },
   "id": "6bab8a53d929dcff"
  },
  {
   "cell_type": "code",
   "execution_count": 12,
   "outputs": [
    {
     "name": "stdout",
     "output_type": "stream",
     "text": [
      "Михайлов\n"
     ]
    }
   ],
   "source": [
    "#проверяем, решил ли кто-то все задачи\n",
    "if result:\n",
    "    #преобразуем множество с список и сортируем его\n",
    "    result_sorted = sorted(result)\n",
    "    print(*result_sorted)\n",
    "else:\n",
    "    print(\"Никто не решил всех олимпиад\")"
   ],
   "metadata": {
    "collapsed": false,
    "ExecuteTime": {
     "end_time": "2023-10-22T10:26:16.788586Z",
     "start_time": "2023-10-22T10:26:16.762190Z"
    }
   },
   "id": "c659ed5eba23f529"
  }
 ],
 "metadata": {
  "kernelspec": {
   "display_name": "Python 3",
   "language": "python",
   "name": "python3"
  },
  "language_info": {
   "codemirror_mode": {
    "name": "ipython",
    "version": 2
   },
   "file_extension": ".py",
   "mimetype": "text/x-python",
   "name": "python",
   "nbconvert_exporter": "python",
   "pygments_lexer": "ipython2",
   "version": "2.7.6"
  }
 },
 "nbformat": 4,
 "nbformat_minor": 5
}
