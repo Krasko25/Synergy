{
 "cells": [
  {
   "cell_type": "markdown",
   "source": [
    "<b>Задача 3.</b> Проверка на анаграмму. Пользователь вводит две строки. Напишите программу, которая определяет, являются ли эти строки анаграммами (содержат одни и те же символы, но в разном порядке). Выведите соответствующее сообщение.\n",
    "<b>Подсказка:</b> воспользуйтесь множеством для сравнения уникальных символов в строке, но не забудьте избавиться от пробелов.\n"
   ],
   "metadata": {
    "collapsed": false
   },
   "id": "6762928b880af01b"
  },
  {
   "cell_type": "code",
   "execution_count": 29,
   "outputs": [],
   "source": [
    "#получаем строки от пользователя\n",
    "s1 = input('Введите первую строку')\n",
    "s2 = input(\"Введите вторую строку\")"
   ],
   "metadata": {
    "collapsed": false,
    "ExecuteTime": {
     "end_time": "2023-10-22T09:52:35.223288Z",
     "start_time": "2023-10-22T09:52:28.604748Z"
    }
   },
   "id": "59433d0f8495128b"
  },
  {
   "cell_type": "markdown",
   "source": [
    "Вариант 1:"
   ],
   "metadata": {
    "collapsed": false
   },
   "id": "4540b1a63fa318fb"
  },
  {
   "cell_type": "code",
   "execution_count": 30,
   "outputs": [],
   "source": [
    "#избавляемся от лишних пробелов, возводим строки в нижний регистр и превращаем их в множества\n",
    "set1 = set(s1.replace(' ', '').lower())\n",
    "set2 = set(s2.replace(' ', '').lower())"
   ],
   "metadata": {
    "collapsed": false,
    "ExecuteTime": {
     "end_time": "2023-10-22T09:52:35.252356Z",
     "start_time": "2023-10-22T09:52:35.213314Z"
    }
   },
   "id": "f37e8f86e73b57c9"
  },
  {
   "cell_type": "code",
   "execution_count": 31,
   "outputs": [
    {
     "name": "stdout",
     "output_type": "stream",
     "text": [
      "Данные строки являются анаграммами\n"
     ]
    }
   ],
   "source": [
    "if set1 == set2:\n",
    "    print('Данные строки являются анаграммами')\n",
    "else:\n",
    "    print(\"Данные строки НЕ являются анаграммами\")"
   ],
   "metadata": {
    "collapsed": false,
    "ExecuteTime": {
     "end_time": "2023-10-22T09:52:35.304835Z",
     "start_time": "2023-10-22T09:52:35.231960Z"
    }
   },
   "id": "34f18a1adad743b6"
  },
  {
   "cell_type": "markdown",
   "source": [
    "Однако, стоит упомянуть, что метод решения, предложенный в условии, содержит существенный недостаток: множества исключают повторяющиеся символы, поэтому программа не учитывает частоту повторения букв в строках."
   ],
   "metadata": {
    "collapsed": false
   },
   "id": "e884572c33aafded"
  },
  {
   "cell_type": "markdown",
   "source": [
    "По названным ранее причинам, я реаzлизую другой вариант с использованием словарей. \n",
    "Вариант 2:"
   ],
   "metadata": {
    "collapsed": false
   },
   "id": "18ffa1498117ad21"
  },
  {
   "cell_type": "code",
   "execution_count": 32,
   "outputs": [],
   "source": [
    "#создаем словарь для букв\n",
    "letters1 = {}\n",
    "letters2 = {}\n",
    "\n",
    "#меняем регистр букв и убираем пробелы\n",
    "s1_copy = s1.replace(' ', '').lower()\n",
    "s2_copy = s2.replace(' ', '').lower()"
   ],
   "metadata": {
    "collapsed": false,
    "ExecuteTime": {
     "end_time": "2023-10-22T09:52:35.305927Z",
     "start_time": "2023-10-22T09:52:35.267367Z"
    }
   },
   "id": "6a01c9ce03ec7761"
  },
  {
   "cell_type": "code",
   "execution_count": 33,
   "outputs": [
    {
     "name": "stdout",
     "output_type": "stream",
     "text": [
      "Данные строки являются анаграммами\n"
     ]
    }
   ],
   "source": [
    "#если строки без пробелов имеют разную длину, то они точно не являются анаграммами\n",
    "if len(s1_copy) == len(s2_copy):\n",
    "    for i in range(len(s1_copy)):\n",
    "        #при помощи метода .get избегаем ошибки при первом вхождении буквы в строке\n",
    "        letters1[s1_copy[i]] = letters1.get(s1_copy, 0) + 1\n",
    "        letters2[s2_copy[i]] = letters2.get(s2_copy, 0) + 1\n",
    "        \n",
    "    if letters1 == letters2:\n",
    "        print('Данные строки являются анаграммами')\n",
    "    else:\n",
    "        print(\"Данные строки НЕ являются анаграммами\")\n",
    "else:\n",
    "    print(\"Данные строки НЕ являются анаграммами\")"
   ],
   "metadata": {
    "collapsed": false,
    "ExecuteTime": {
     "end_time": "2023-10-22T09:52:35.307691Z",
     "start_time": "2023-10-22T09:52:35.284165Z"
    }
   },
   "id": "7d8eb78ab0e4d69e"
  }
 ],
 "metadata": {
  "kernelspec": {
   "display_name": "Python 3",
   "language": "python",
   "name": "python3"
  },
  "language_info": {
   "codemirror_mode": {
    "name": "ipython",
    "version": 2
   },
   "file_extension": ".py",
   "mimetype": "text/x-python",
   "name": "python",
   "nbconvert_exporter": "python",
   "pygments_lexer": "ipython2",
   "version": "2.7.6"
  }
 },
 "nbformat": 4,
 "nbformat_minor": 5
}
