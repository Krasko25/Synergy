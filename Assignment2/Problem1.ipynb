{
 "cells": [
  {
   "cell_type": "markdown",
   "metadata": {},
   "source": [
    "**Задача 1:**\n",
    "\n",
    "Создайте вектор из 100 случайных чисел от 1 до 10, по аналогии, как был создан вектор из 5 случайных чисел от 1 до 2: arr = np.random.randint(1, 2, size=5). Посчитайте, не используя циклы, какой процент элементов в векторе больше 7.\n",
    "<hr>"
   ]
  },
  {
   "cell_type": "code",
   "execution_count": 312,
   "metadata": {},
   "outputs": [],
   "source": [
    "import numpy as np"
   ]
  },
  {
   "cell_type": "code",
   "execution_count": 313,
   "metadata": {},
   "outputs": [
    {
     "name": "stdout",
     "output_type": "stream",
     "text": [
      "Процент элементов, которые больше 7: 41%\n"
     ]
    }
   ],
   "source": [
    "#генерация списка\n",
    "my_list = np.random.randint(1, 11, 100)\n",
    "\n",
    "#так как количество элементов равно 100, то количество элементов удовлетворяющих условию и будет являтся нужным процентом\n",
    "print(\"Процент элементов, которые больше 7: \", len(my_list[my_list > 7]), \"%\", sep=\"\")"
   ]
  },
  {
   "cell_type": "markdown",
   "metadata": {},
   "source": [
    "**Задача 2:** \n",
    "\n",
    "Проведите опыт из предыдущей задачи 1000 раз, а именно, создание вектора и подсчёт процента элементов, больших 7. Какая часть полученных результатов равно 20 %?\n",
    "<hr>"
   ]
  },
  {
   "cell_type": "code",
   "execution_count": 314,
   "metadata": {},
   "outputs": [],
   "source": [
    "def more_than_7(lowest, highest, amount):\n",
    "    #генерация списка\n",
    "    my_list = np.random.randint(lowest, highest + 1, amount)\n",
    "\n",
    "    #так как количество элементов равно 100, то количество элементов удовлетворяющих условию и будет являтся нужным процентом\n",
    "    return len(my_list[my_list > 7])"
   ]
  },
  {
   "cell_type": "code",
   "execution_count": 315,
   "metadata": {},
   "outputs": [
    {
     "name": "stdout",
     "output_type": "stream",
     "text": [
      "Процент результатов, который равны 20: 0.038\n"
     ]
    }
   ],
   "source": [
    "results = []\n",
    "\n",
    "#записываем результаты в обычный список\n",
    "for _ in range(1000):\n",
    "    results.append(more_than_7(1, 10, 100))\n",
    "\n",
    "#преобразуем обычный список, находим число результатов, удовлетворяющих условию и находим процент\n",
    "np.array(results)\n",
    "print('Процент результатов, который равны 20:', results[results == 20] / 1000)"
   ]
  },
  {
   "cell_type": "markdown",
   "metadata": {},
   "source": [
    "**Задача 3:**\n",
    "\n",
    "Создайте матрицу numpy 10 x 10, где каждая строка будет выглядеть, как 1, 2, 3, 4, 5, 6, 7, 8, 9, 10. Желательно не использовать циклы.\n",
    "<hr>"
   ]
  },
  {
   "cell_type": "code",
   "execution_count": 316,
   "metadata": {},
   "outputs": [
    {
     "data": {
      "text/plain": [
       "array([[ 1,  2,  3,  4,  5,  6,  7,  8,  9, 10],\n",
       "       [ 1,  2,  3,  4,  5,  6,  7,  8,  9, 10],\n",
       "       [ 1,  2,  3,  4,  5,  6,  7,  8,  9, 10],\n",
       "       [ 1,  2,  3,  4,  5,  6,  7,  8,  9, 10],\n",
       "       [ 1,  2,  3,  4,  5,  6,  7,  8,  9, 10],\n",
       "       [ 1,  2,  3,  4,  5,  6,  7,  8,  9, 10],\n",
       "       [ 1,  2,  3,  4,  5,  6,  7,  8,  9, 10],\n",
       "       [ 1,  2,  3,  4,  5,  6,  7,  8,  9, 10],\n",
       "       [ 1,  2,  3,  4,  5,  6,  7,  8,  9, 10],\n",
       "       [ 1,  2,  3,  4,  5,  6,  7,  8,  9, 10]])"
      ]
     },
     "execution_count": 316,
     "metadata": {},
     "output_type": "execute_result"
    }
   ],
   "source": [
    "#arange создает диапазон элементов \n",
    "#взяв выражение \"np.arange(1, 11)\" в квадратные скобки мы показываем, что хотим умножить на 10 именно список,\n",
    "#а не каждый отдельно взятый элемент\n",
    "matrix = np.array([np.arange(1, 11)] * 10)\n",
    "\n",
    "matrix"
   ]
  },
  {
   "cell_type": "markdown",
   "metadata": {},
   "source": [
    "**Задача 4: **\n",
    "\n",
    "Не используя циклы, найдите суммы элементов матрицы в каждом столбце.\n",
    "<hr>"
   ]
  },
  {
   "cell_type": "code",
   "execution_count": 317,
   "metadata": {},
   "outputs": [
    {
     "data": {
      "text/plain": [
       "array([ 10,  20,  30,  40,  50,  60,  70,  80,  90, 100])"
      ]
     },
     "execution_count": 317,
     "metadata": {},
     "output_type": "execute_result"
    }
   ],
   "source": [
    "#axis = 0 указывает на то, что мы берем только значения столбцов \n",
    "#при axis = 1 (значение по умолчанию) программа посчитала бы сумму элементов строк\n",
    "np.sum(matrix, axis = 0)"
   ]
  }
 ],
 "metadata": {
  "kernelspec": {
   "display_name": "part2",
   "language": "python",
   "name": "python3"
  },
  "language_info": {
   "codemirror_mode": {
    "name": "ipython",
    "version": 3
   },
   "file_extension": ".py",
   "mimetype": "text/x-python",
   "name": "python",
   "nbconvert_exporter": "python",
   "pygments_lexer": "ipython3",
   "version": "3.8.5"
  }
 },
 "nbformat": 4,
 "nbformat_minor": 2
}
