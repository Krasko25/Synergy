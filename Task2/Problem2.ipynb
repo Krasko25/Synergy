{
 "cells": [
  {
   "cell_type": "markdown",
   "source": [
    "Задание 2: Напишите программу, которая выводит на экран все числа от 1 до 10."
   ],
   "metadata": {
    "collapsed": false
   },
   "id": "740b2317a93d03c2"
  },
  {
   "cell_type": "code",
   "execution_count": 6,
   "outputs": [
    {
     "name": "stdout",
     "output_type": "stream",
     "text": [
      "1 2 3 4 5 6 7 8 9 10\n"
     ]
    }
   ],
   "source": [
    "print(*range(1, 11))"
   ],
   "metadata": {
    "collapsed": false,
    "ExecuteTime": {
     "end_time": "2023-10-07T16:17:50.452102Z",
     "start_time": "2023-10-07T16:17:50.348746Z"
    }
   },
   "id": "779acbfd03615233"
  },
  {
   "cell_type": "markdown",
   "source": [
    "В данном случае конструкция range(1, 11) является набором чисел от 1 до 10 (так как верхнее значение не включается в диапазон), а \"*\" помогает распаковать данный набор в строку.\n",
    "Также возможен такой вариант написания:"
   ],
   "metadata": {
    "collapsed": false
   },
   "id": "6394166a6ed1b89a"
  },
  {
   "cell_type": "code",
   "execution_count": 7,
   "outputs": [
    {
     "name": "stdout",
     "output_type": "stream",
     "text": [
      "1\n",
      "2\n",
      "3\n",
      "4\n",
      "5\n",
      "6\n",
      "7\n",
      "8\n",
      "9\n",
      "10\n"
     ]
    }
   ],
   "source": [
    "print(*range(1, 11), sep=\"\\n\")"
   ],
   "metadata": {
    "collapsed": false,
    "ExecuteTime": {
     "end_time": "2023-10-07T16:17:50.485022Z",
     "start_time": "2023-10-07T16:17:50.391079Z"
    }
   },
   "id": "de0708e2e36a2ffe"
  },
  {
   "cell_type": "markdown",
   "source": [
    "Здесь sep помогает записать каждое число на отдельной строке.\n",
    "3 вариант:"
   ],
   "metadata": {
    "collapsed": false
   },
   "id": "35e8864f3e5d24f5"
  },
  {
   "cell_type": "code",
   "execution_count": 1,
   "outputs": [
    {
     "name": "stdout",
     "output_type": "stream",
     "text": [
      "1\n",
      "2\n",
      "3\n",
      "4\n",
      "5\n",
      "6\n",
      "7\n",
      "8\n",
      "9\n",
      "10\n"
     ]
    }
   ],
   "source": [
    "for i in range (1, 11):\n",
    "    print(i)"
   ],
   "metadata": {
    "collapsed": false,
    "ExecuteTime": {
     "end_time": "2023-10-07T16:29:30.949257Z",
     "start_time": "2023-10-07T16:29:30.913567Z"
    }
   },
   "id": "ce20dda405f5961f"
  }
 ],
 "metadata": {
  "kernelspec": {
   "display_name": "Python 3",
   "language": "python",
   "name": "python3"
  },
  "language_info": {
   "codemirror_mode": {
    "name": "ipython",
    "version": 2
   },
   "file_extension": ".py",
   "mimetype": "text/x-python",
   "name": "python",
   "nbconvert_exporter": "python",
   "pygments_lexer": "ipython2",
   "version": "2.7.6"
  }
 },
 "nbformat": 4,
 "nbformat_minor": 5
}
