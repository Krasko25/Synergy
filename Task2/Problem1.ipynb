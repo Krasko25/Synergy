{
 "cells": [
  {
   "cell_type": "markdown",
   "source": [
    "Задание 1: Написать программу, которая будет находить процент от числа и округлять результат до двух знаков после запятой."
   ],
   "metadata": {
    "collapsed": false
   },
   "id": "b95c0a3541477885"
  },
  {
   "cell_type": "markdown",
   "source": [
    "Запрос нужных значений у пользователя:"
   ],
   "metadata": {
    "collapsed": false
   },
   "id": "539e8a1fbd806d80"
  },
  {
   "cell_type": "code",
   "execution_count": 1,
   "outputs": [],
   "source": [
    "num = float(input(\"Введите число, над которым будет проведена операция: \"))\n",
    "percent = float(input(\"Какой процент от этого числа вы хотите найти? \"))"
   ],
   "metadata": {
    "collapsed": false,
    "ExecuteTime": {
     "end_time": "2023-10-07T16:07:19.689454Z",
     "start_time": "2023-10-07T16:07:14.479802Z"
    }
   },
   "id": "9ea7f98b81ec09f3"
  },
  {
   "cell_type": "markdown",
   "source": [
    "Вычисление процента от числа:"
   ],
   "metadata": {
    "collapsed": false
   },
   "id": "40c42bf15025bdee"
  },
  {
   "cell_type": "code",
   "execution_count": 2,
   "outputs": [],
   "source": [
    "result = num * percent / 100"
   ],
   "metadata": {
    "collapsed": false,
    "ExecuteTime": {
     "end_time": "2023-10-07T16:07:19.722245Z",
     "start_time": "2023-10-07T16:07:19.673641Z"
    }
   },
   "id": "d655f9ad01907b38"
  },
  {
   "cell_type": "markdown",
   "source": [
    "Вывод результата:"
   ],
   "metadata": {
    "collapsed": false
   },
   "id": "2cb2ded8a2a3789e"
  },
  {
   "cell_type": "code",
   "execution_count": 3,
   "outputs": [
    {
     "name": "stdout",
     "output_type": "stream",
     "text": [
      "4.0\n"
     ]
    }
   ],
   "source": [
    "print(result)"
   ],
   "metadata": {
    "collapsed": false,
    "ExecuteTime": {
     "end_time": "2023-10-07T16:07:19.807978Z",
     "start_time": "2023-10-07T16:07:19.719195Z"
    }
   },
   "id": "bbc07f4e0a1f98ab"
  }
 ],
 "metadata": {
  "kernelspec": {
   "display_name": "Python 3",
   "language": "python",
   "name": "python3"
  },
  "language_info": {
   "codemirror_mode": {
    "name": "ipython",
    "version": 2
   },
   "file_extension": ".py",
   "mimetype": "text/x-python",
   "name": "python",
   "nbconvert_exporter": "python",
   "pygments_lexer": "ipython2",
   "version": "2.7.6"
  }
 },
 "nbformat": 4,
 "nbformat_minor": 5
}
