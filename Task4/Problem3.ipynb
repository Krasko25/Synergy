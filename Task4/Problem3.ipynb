{
 "cells": [
  {
   "cell_type": "markdown",
   "source": [
    "Задача 3.Вводится список чисел через пробел и натуральное число n - степень. Нужно возвести в заданную степень n все введенные числа.\n",
    "Желательно сделать, используя списочные выражения\n",
    "Ввод:3 5 -7 -13 43 8 0 -13 8 -1 2\n",
    "Вывод: [9, 25, 49, 169, 1849, 64, 0, 169, 64, 1]"
   ],
   "metadata": {
    "collapsed": false
   },
   "id": "962338f62faee802"
  },
  {
   "cell_type": "markdown",
   "source": [
    "1 вариант (с генераторами):"
   ],
   "metadata": {
    "collapsed": false
   },
   "id": "bfc602c4d9750ef3"
  },
  {
   "cell_type": "code",
   "execution_count": 4,
   "outputs": [
    {
     "name": "stdout",
     "output_type": "stream",
     "text": [
      "9 25 49 169 1849 64 0 169 64 1 4\n"
     ]
    }
   ],
   "source": [
    "#используем внутренний генератор для того, чтобы изменить тип данных элементов на int\n",
    "#используем внешний генератор, чтобы возвести числа в квадрат\n",
    "print(*[i * i for i in [int(number) for number in input().split()]])"
   ],
   "metadata": {
    "collapsed": false,
    "ExecuteTime": {
     "end_time": "2023-10-19T16:17:54.111741Z",
     "start_time": "2023-10-19T16:17:53.127653Z"
    }
   },
   "id": "4db768003e7d31c9"
  },
  {
   "cell_type": "markdown",
   "source": [
    "2 вариант:"
   ],
   "metadata": {
    "collapsed": false
   },
   "id": "927728ecb051806e"
  },
  {
   "cell_type": "code",
   "execution_count": 5,
   "outputs": [
    {
     "name": "stdout",
     "output_type": "stream",
     "text": [
      "9 25 49 169 1849 64 0 169 64 1 4 "
     ]
    }
   ],
   "source": [
    "#ввод строки\n",
    "s = input()\n",
    "\n",
    "#используем s.split() для разбиения строки на элементы\n",
    "for elem in s.split():\n",
    "    \n",
    "    #превращаем элемент, возводим в квадрат и выводим в консоль\n",
    "    num = int(elem)\n",
    "    print(num * num, end=' ')"
   ],
   "metadata": {
    "collapsed": false,
    "ExecuteTime": {
     "end_time": "2023-10-19T16:17:54.845690Z",
     "start_time": "2023-10-19T16:17:54.089516Z"
    }
   },
   "id": "3756cb55481aff2e"
  }
 ],
 "metadata": {
  "kernelspec": {
   "display_name": "Python 3",
   "language": "python",
   "name": "python3"
  },
  "language_info": {
   "codemirror_mode": {
    "name": "ipython",
    "version": 2
   },
   "file_extension": ".py",
   "mimetype": "text/x-python",
   "name": "python",
   "nbconvert_exporter": "python",
   "pygments_lexer": "ipython2",
   "version": "2.7.6"
  }
 },
 "nbformat": 4,
 "nbformat_minor": 5
}
