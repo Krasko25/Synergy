{
 "cells": [
  {
   "cell_type": "markdown",
   "source": [
    "<b>Задача 6</b>. Вводится текст со сбалансированными скобками, программа выводит на экран текст без скобок и их содержимого. На пробелы и знаки препинания внимание не обращать, вложенных скобок в исходной строке нет.\n",
    "\n",
    "<b>Ввод</b>: When he saw Sally (a girl he used to go to school with) in the shop, he could not believe his eyes. She was fantastic (as always)!\n",
    "<b>Вывод</b>: a girl he used to go to school with\n",
    "as always"
   ],
   "metadata": {
    "collapsed": false
   },
   "id": "b1a04eced7c94376"
  },
  {
   "cell_type": "markdown",
   "source": [
    "В задании указано, что необходимо вывести текст <u>без скобок и их содержания</u>, то есть, все, что находится в скобках нужно удалить. Однако в примере указывается обратное, ну да ладно, буду решать на основе примера.\n"
   ],
   "metadata": {
    "collapsed": false
   },
   "id": "57261abf736ac414"
  },
  {
   "cell_type": "code",
   "execution_count": 9,
   "outputs": [],
   "source": [
    "#ввод строки\n",
    "s = input()"
   ],
   "metadata": {
    "collapsed": false,
    "ExecuteTime": {
     "end_time": "2023-10-19T17:18:11.793690Z",
     "start_time": "2023-10-19T17:18:00.056335Z"
    }
   },
   "id": "95661093a0b8efda"
  },
  {
   "cell_type": "code",
   "execution_count": 10,
   "outputs": [
    {
     "name": "stdout",
     "output_type": "stream",
     "text": [
      "a girl he used to go to school with\n",
      "as always\n"
     ]
    }
   ],
   "source": [
    "#цикл повторяется до тех пор, пока в тексте есть скобки\n",
    "while \"(\" in s:\n",
    "    \n",
    "    #записываем индексы первой открывающей и закрывающей скобки\n",
    "    a = s.find(\"(\")\n",
    "    b = s.find(\")\")\n",
    "    \n",
    "    #выводим содержимое этих скобок\n",
    "    print(s[a + 1 : b])\n",
    "    \n",
    "    #вырезаем ненужную часть строки\n",
    "    s = s[b+1:]"
   ],
   "metadata": {
    "collapsed": false,
    "ExecuteTime": {
     "end_time": "2023-10-19T17:18:11.884513Z",
     "start_time": "2023-10-19T17:18:11.800723Z"
    }
   },
   "id": "bdff80ac4ea1e939"
  }
 ],
 "metadata": {
  "kernelspec": {
   "display_name": "Python 3",
   "language": "python",
   "name": "python3"
  },
  "language_info": {
   "codemirror_mode": {
    "name": "ipython",
    "version": 2
   },
   "file_extension": ".py",
   "mimetype": "text/x-python",
   "name": "python",
   "nbconvert_exporter": "python",
   "pygments_lexer": "ipython2",
   "version": "2.7.6"
  }
 },
 "nbformat": 4,
 "nbformat_minor": 5
}
