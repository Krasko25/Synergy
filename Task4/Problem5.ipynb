{
 "cells": [
  {
   "cell_type": "markdown",
   "source": [
    "Дана строка. Программа подсчитывает количество символов x и y и выводит строку вида \"x: (число), y: (число).\""
   ],
   "metadata": {
    "collapsed": false
   },
   "id": "bb9d5bc86ae393e3"
  },
  {
   "cell_type": "code",
   "execution_count": 5,
   "outputs": [],
   "source": [
    "#вводим строку\n",
    "s = input()"
   ],
   "metadata": {
    "collapsed": false,
    "ExecuteTime": {
     "end_time": "2023-10-19T16:55:49.737684Z",
     "start_time": "2023-10-19T16:55:45.193490Z"
    }
   },
   "id": "d624046b142f70f2"
  },
  {
   "cell_type": "markdown",
   "source": [
    "1 вариант:"
   ],
   "metadata": {
    "collapsed": false
   },
   "id": "5586c67d6773db62"
  },
  {
   "cell_type": "code",
   "execution_count": 6,
   "outputs": [],
   "source": [
    "#создаем переменные-хранилища\n",
    "x_counter = 0\n",
    "y_counter = 0"
   ],
   "metadata": {
    "collapsed": false,
    "ExecuteTime": {
     "end_time": "2023-10-19T16:55:49.755656Z",
     "start_time": "2023-10-19T16:55:49.714092Z"
    }
   },
   "id": "c8024570f8a140f"
  },
  {
   "cell_type": "code",
   "execution_count": 7,
   "outputs": [],
   "source": [
    "#проходимся по строке, сравниваем символы с необходимыми, \n",
    "#записываем результат в созданные ранее переменные\n",
    "for letter in s:\n",
    "    if letter == 'x':\n",
    "        x_counter += 1\n",
    "    elif letter == 'y':\n",
    "        y_counter += 1"
   ],
   "metadata": {
    "collapsed": false,
    "ExecuteTime": {
     "end_time": "2023-10-19T16:55:49.781219Z",
     "start_time": "2023-10-19T16:55:49.736327Z"
    }
   },
   "id": "ad91caa574562afd"
  },
  {
   "cell_type": "code",
   "execution_count": 8,
   "outputs": [
    {
     "name": "stdout",
     "output_type": "stream",
     "text": [
      "x: 4\n",
      "y: 3\n"
     ]
    }
   ],
   "source": [
    "#используем f-строку для удобного вывода\n",
    "#n - переход на следующую строку\n",
    "print(f'x: {x_counter}\\ny: {y_counter}')"
   ],
   "metadata": {
    "collapsed": false,
    "ExecuteTime": {
     "end_time": "2023-10-19T16:55:49.834260Z",
     "start_time": "2023-10-19T16:55:49.791688Z"
    }
   },
   "id": "e73b141f04bdde3d"
  },
  {
   "cell_type": "markdown",
   "source": [
    "2 вариант (с использованием count):"
   ],
   "metadata": {
    "collapsed": false
   },
   "id": "302823ce55fa0109"
  },
  {
   "cell_type": "code",
   "execution_count": 9,
   "outputs": [
    {
     "name": "stdout",
     "output_type": "stream",
     "text": [
      "x: 4\n",
      "y: 3\n"
     ]
    }
   ],
   "source": [
    "#s.count(символ_который_мы_хотим_найти)\n",
    "print(f'x: {s.count(\"x\")}\\ny: {s.count(\"y\")}')"
   ],
   "metadata": {
    "collapsed": false,
    "ExecuteTime": {
     "end_time": "2023-10-19T16:55:49.834952Z",
     "start_time": "2023-10-19T16:55:49.810523Z"
    }
   },
   "id": "a95eb399be3f9101"
  }
 ],
 "metadata": {
  "kernelspec": {
   "display_name": "Python 3",
   "language": "python",
   "name": "python3"
  },
  "language_info": {
   "codemirror_mode": {
    "name": "ipython",
    "version": 2
   },
   "file_extension": ".py",
   "mimetype": "text/x-python",
   "name": "python",
   "nbconvert_exporter": "python",
   "pygments_lexer": "ipython2",
   "version": "2.7.6"
  }
 },
 "nbformat": 4,
 "nbformat_minor": 5
}
