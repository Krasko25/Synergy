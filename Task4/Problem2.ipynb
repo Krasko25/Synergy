{
 "cells": [
  {
   "cell_type": "markdown",
   "source": [
    "Задача 2. Вводится строка из не менее 15 символов, программа выводит на экран символы с чётными номерами (нумерация с 0).\n",
    "Ввод: In the hole in the ground there lived a hobbit\n",
    "Вывод: I h oei h rudteelvdahbi"
   ],
   "metadata": {
    "collapsed": false
   },
   "id": "6f13f0e72d3197f7"
  },
  {
   "cell_type": "code",
   "execution_count": 7,
   "outputs": [],
   "source": [
    "#получаем строку\n",
    "s = input()"
   ],
   "metadata": {
    "collapsed": false,
    "ExecuteTime": {
     "end_time": "2023-10-19T16:04:15.687236Z",
     "start_time": "2023-10-19T16:04:12.201642Z"
    }
   },
   "id": "faebdb28154be17f"
  },
  {
   "cell_type": "code",
   "execution_count": 8,
   "outputs": [
    {
     "name": "stdout",
     "output_type": "stream",
     "text": [
      "I h oei h rudteelvdahbi"
     ]
    }
   ],
   "source": [
    "#выводим строку с шагом 2\n",
    "#end необходим, чтобы символы выводились в одну строку\n",
    "for i in range(0, len(s), 2):\n",
    "    print(s[i], end='')"
   ],
   "metadata": {
    "collapsed": false,
    "ExecuteTime": {
     "end_time": "2023-10-19T16:04:15.688803Z",
     "start_time": "2023-10-19T16:04:15.669896Z"
    }
   },
   "id": "2608c5d9a5fcbd15"
  }
 ],
 "metadata": {
  "kernelspec": {
   "display_name": "Python 3",
   "language": "python",
   "name": "python3"
  },
  "language_info": {
   "codemirror_mode": {
    "name": "ipython",
    "version": 2
   },
   "file_extension": ".py",
   "mimetype": "text/x-python",
   "name": "python",
   "nbconvert_exporter": "python",
   "pygments_lexer": "ipython2",
   "version": "2.7.6"
  }
 },
 "nbformat": 4,
 "nbformat_minor": 5
}
