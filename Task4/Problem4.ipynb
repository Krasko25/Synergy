{
 "cells": [
  {
   "cell_type": "markdown",
   "source": [
    "Задача 4. Вводится строка с текстом и символ. Требуется удвоить вхождение введённого символа в текст. Текст состоит из слов, записанных латинскими буквами через пробел, знаков препинания."
   ],
   "metadata": {
    "collapsed": false
   },
   "id": "b98f5f425a5346dc"
  },
  {
   "cell_type": "code",
   "execution_count": 11,
   "outputs": [],
   "source": [
    "#вводим строку\n",
    "s = input()\n",
    "\n",
    "#вводим символ для замены\n",
    "letter = input()"
   ],
   "metadata": {
    "collapsed": false,
    "ExecuteTime": {
     "end_time": "2023-10-19T16:43:13.026213Z",
     "start_time": "2023-10-19T16:43:09.844353Z"
    }
   },
   "id": "ac2db3cba160226e"
  },
  {
   "cell_type": "code",
   "execution_count": 12,
   "outputs": [
    {
     "name": "stdout",
     "output_type": "stream",
     "text": [
      "ВВвводится строка с текстом и симввол. Требуется удввоить ввхождение вввведённого симввола вв текст. Текст состоит из словв, записанных латинскими букввами через пробел, знаковв препинания\n"
     ]
    }
   ],
   "source": [
    "#удваиваем нужный символ при помощи replace\n",
    "result = s.replace(letter.lower(), letter.lower() * 2)\n",
    "\n",
    "#проходим по строке второй раз, чтобы удвоить заглавные буквы\n",
    "result = result.replace(letter.upper(), letter.upper() * 2)\n",
    "\n",
    "print(result)"
   ],
   "metadata": {
    "collapsed": false,
    "ExecuteTime": {
     "end_time": "2023-10-19T16:43:13.094725Z",
     "start_time": "2023-10-19T16:43:13.024824Z"
    }
   },
   "id": "2aea5338032dae78"
  }
 ],
 "metadata": {
  "kernelspec": {
   "display_name": "Python 3",
   "language": "python",
   "name": "python3"
  },
  "language_info": {
   "codemirror_mode": {
    "name": "ipython",
    "version": 2
   },
   "file_extension": ".py",
   "mimetype": "text/x-python",
   "name": "python",
   "nbconvert_exporter": "python",
   "pygments_lexer": "ipython2",
   "version": "2.7.6"
  }
 },
 "nbformat": 4,
 "nbformat_minor": 5
}
