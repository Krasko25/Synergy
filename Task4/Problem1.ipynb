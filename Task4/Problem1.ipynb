{
 "cells": [
  {
   "cell_type": "markdown",
   "source": [
    "# Типы данных"
   ],
   "metadata": {
    "collapsed": false
   },
   "id": "3167fb82f08e848f"
  },
  {
   "cell_type": "markdown",
   "source": [
    "Задача 1.Вводится строка. Нужно превратить строку в список, разбив строку на слова и вывести список из слов, записанный в обратном порядке.\n",
    "Ввод:Death there mirth way the noisy merit\n",
    "Вывод:['merit', 'noisy', 'the', 'way', 'mirth', 'there', 'Death']"
   ],
   "metadata": {
    "collapsed": false
   },
   "id": "8e2da53f6bc20c97"
  },
  {
   "cell_type": "code",
   "execution_count": 32,
   "outputs": [],
   "source": [
    "#получаем строку от пользователся\n",
    "s = input()"
   ],
   "metadata": {
    "collapsed": false,
    "ExecuteTime": {
     "end_time": "2023-10-19T15:59:50.952279Z",
     "start_time": "2023-10-19T15:59:48.931345Z"
    }
   },
   "id": "beb7d30c6489ddad"
  },
  {
   "cell_type": "code",
   "execution_count": 33,
   "outputs": [],
   "source": [
    "#разделяем строку на список слов\n",
    "words = s.split()"
   ],
   "metadata": {
    "collapsed": false,
    "ExecuteTime": {
     "end_time": "2023-10-19T15:59:51.005389Z",
     "start_time": "2023-10-19T15:59:50.930394Z"
    }
   },
   "id": "1249861f2ac20a65"
  },
  {
   "cell_type": "markdown",
   "source": [
    "1 варинат:"
   ],
   "metadata": {
    "collapsed": false
   },
   "id": "7b47dfe174e776a2"
  },
  {
   "cell_type": "code",
   "execution_count": 34,
   "outputs": [
    {
     "name": "stdout",
     "output_type": "stream",
     "text": [
      "merit noisy the way mirth there Death\n"
     ]
    }
   ],
   "source": [
    "# \"*\" используется для распаковки списка\n",
    "# выводим список в обратном порядке при помощи шага -1\n",
    "print(*words[::-1])"
   ],
   "metadata": {
    "collapsed": false,
    "ExecuteTime": {
     "end_time": "2023-10-19T15:59:51.029682Z",
     "start_time": "2023-10-19T15:59:50.963850Z"
    }
   },
   "id": "b069de1322b9e701"
  },
  {
   "cell_type": "markdown",
   "source": [
    "2 вариант:"
   ],
   "metadata": {
    "collapsed": false
   },
   "id": "70d06f026266bbb0"
  },
  {
   "cell_type": "code",
   "execution_count": 35,
   "outputs": [
    {
     "name": "stdout",
     "output_type": "stream",
     "text": [
      "merit noisy the way mirth there Death\n"
     ]
    }
   ],
   "source": [
    "#переворачиваем список\n",
    "words.reverse()\n",
    "\n",
    "#выводим список\n",
    "print(*words)"
   ],
   "metadata": {
    "collapsed": false,
    "ExecuteTime": {
     "end_time": "2023-10-19T15:59:51.071699Z",
     "start_time": "2023-10-19T15:59:51.019591Z"
    }
   },
   "id": "83bb75cb027c0c10"
  },
  {
   "cell_type": "markdown",
   "source": [
    "3 вариант (без \"*\"):"
   ],
   "metadata": {
    "collapsed": false
   },
   "id": "55e8512670b42927"
  },
  {
   "cell_type": "code",
   "execution_count": 36,
   "outputs": [
    {
     "name": "stdout",
     "output_type": "stream",
     "text": [
      "merit noisy the way mirth there Death "
     ]
    }
   ],
   "source": [
    "#end=' ' необходим для того, чтобы слова выводились в одну строку\n",
    "for word in words:\n",
    "    print(word, end=' ')"
   ],
   "metadata": {
    "collapsed": false,
    "ExecuteTime": {
     "end_time": "2023-10-19T15:59:51.177647Z",
     "start_time": "2023-10-19T15:59:51.037819Z"
    }
   },
   "id": "88cc84dbb9788fb"
  }
 ],
 "metadata": {
  "kernelspec": {
   "display_name": "Python 3",
   "language": "python",
   "name": "python3"
  },
  "language_info": {
   "codemirror_mode": {
    "name": "ipython",
    "version": 2
   },
   "file_extension": ".py",
   "mimetype": "text/x-python",
   "name": "python",
   "nbconvert_exporter": "python",
   "pygments_lexer": "ipython2",
   "version": "2.7.6"
  }
 },
 "nbformat": 4,
 "nbformat_minor": 5
}
