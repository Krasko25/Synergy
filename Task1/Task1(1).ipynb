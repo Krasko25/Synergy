{
 "cells": [
  {
   "cell_type": "markdown",
   "source": [
    "# Домашнее задание №1"
   ],
   "metadata": {
    "collapsed": false
   },
   "id": "55be07660eb906f2"
  },
  {
   "cell_type": "markdown",
   "source": [
    "Задание 1: \n",
    "Написать программу, которая будет округлять число до заданного количества знаков после запятой.\n",
    "\n",
    "Получение числа с дробью от пользователя:"
   ],
   "metadata": {
    "collapsed": false
   },
   "id": "8522fb06334c4f24"
  },
  {
   "cell_type": "code",
   "execution_count": 18,
   "outputs": [],
   "source": [
    "user_num = float(input('Введите число: '))"
   ],
   "metadata": {
    "collapsed": false,
    "ExecuteTime": {
     "end_time": "2023-10-05T19:47:40.676839Z",
     "start_time": "2023-10-05T19:47:35.715383Z"
    }
   },
   "id": "initial_id"
  },
  {
   "cell_type": "markdown",
   "source": [
    "Реализованная возможность выбора пользователем количества знаков после запятой:"
   ],
   "metadata": {
    "collapsed": false
   },
   "id": "5df7595ef1a90e49"
  },
  {
   "cell_type": "code",
   "execution_count": 19,
   "outputs": [],
   "source": [
    "digit_amount = int(input(\"Введите количество цифр после запятой, которые вы хотите сохранить: \"))"
   ],
   "metadata": {
    "collapsed": false,
    "ExecuteTime": {
     "end_time": "2023-10-05T19:47:42.024162Z",
     "start_time": "2023-10-05T19:47:40.639287Z"
    }
   },
   "id": "67dbb6cb60e17075"
  },
  {
   "cell_type": "markdown",
   "source": [
    "Если введенное пользователем количество знаков после запятой является неотрицательным, то выводим округленное число от пользователя. Иначе выводим сообщение об ошибке:"
   ],
   "metadata": {
    "collapsed": false
   },
   "id": "73078458d2d154e7"
  },
  {
   "cell_type": "code",
   "execution_count": 20,
   "outputs": [
    {
     "name": "stdout",
     "output_type": "stream",
     "text": [
      "5.13\n"
     ]
    }
   ],
   "source": [
    "if digit_amount >= 0:\n",
    "    print(round(user_num, digit_amount))\n",
    "else:\n",
    "    print('Вам стоит ввести неотрицательное число')"
   ],
   "metadata": {
    "collapsed": false,
    "ExecuteTime": {
     "end_time": "2023-10-05T19:47:42.026007Z",
     "start_time": "2023-10-05T19:47:42.005036Z"
    }
   },
   "id": "8302a5ff4d5d311f"
  }
 ],
 "metadata": {
  "kernelspec": {
   "display_name": "Python 3",
   "language": "python",
   "name": "python3"
  },
  "language_info": {
   "codemirror_mode": {
    "name": "ipython",
    "version": 2
   },
   "file_extension": ".py",
   "mimetype": "text/x-python",
   "name": "python",
   "nbconvert_exporter": "python",
   "pygments_lexer": "ipython2",
   "version": "2.7.6"
  }
 },
 "nbformat": 4,
 "nbformat_minor": 5
}
