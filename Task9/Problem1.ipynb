{
 "cells": [
  {
   "cell_type": "markdown",
   "source": [
    "**Задание 1:** Напишите программу, которая будет находить наименьшее общее кратное двух чисел.\n",
    "**Ввод:** два числа a и b\n",
    "**Вывод:** наименьшее общее кратное чисел a и b"
   ],
   "metadata": {
    "collapsed": false
   },
   "id": "637757a81279831a"
  },
  {
   "cell_type": "code",
   "execution_count": 59,
   "outputs": [],
   "source": [
    "#randint пригодится для генерации входных данных для проверки программы\n",
    "from random import randint"
   ],
   "metadata": {
    "collapsed": false,
    "ExecuteTime": {
     "end_time": "2023-11-06T08:55:13.696261Z",
     "start_time": "2023-11-06T08:55:13.616699Z"
    }
   },
   "id": "c9c30748244c58fb"
  },
  {
   "cell_type": "code",
   "execution_count": 60,
   "outputs": [],
   "source": [
    "def func(num1, num2):\n",
    "    #Берем наибольшее число из двух в качестве отправной точки\n",
    "    greater = num1 if num1 > num2 else num2\n",
    "    search = greater\n",
    "    #увеличиваем переменную для поиска на единицу до тех пор, пока не найдется число, которое будет делиться на каждое число из двух\n",
    "    while search % num1 != 0 or search % num2 != 0:\n",
    "        search += 1\n",
    "    return search"
   ],
   "metadata": {
    "collapsed": false,
    "ExecuteTime": {
     "end_time": "2023-11-06T08:55:13.697189Z",
     "start_time": "2023-11-06T08:55:13.639645Z"
    }
   },
   "id": "c53550ce0d8708db"
  },
  {
   "cell_type": "code",
   "execution_count": 61,
   "outputs": [
    {
     "name": "stdout",
     "output_type": "stream",
     "text": [
      "Первое число:  13 \n",
      "Второе число:  52\n"
     ]
    }
   ],
   "source": [
    "#генерируем числа для проверки программы\n",
    "a = randint(1, 100)\n",
    "b = randint(1, 100)\n",
    "\n",
    "#сообщаем пользователю сгенерированные числа\n",
    "print(\"Первое число: \", a, \"\\nВторое число: \", b)"
   ],
   "metadata": {
    "collapsed": false,
    "ExecuteTime": {
     "end_time": "2023-11-06T08:55:13.700007Z",
     "start_time": "2023-11-06T08:55:13.659392Z"
    }
   },
   "id": "3971f33a51394a13"
  },
  {
   "cell_type": "code",
   "execution_count": 62,
   "outputs": [
    {
     "name": "stdout",
     "output_type": "stream",
     "text": [
      "НОК:  52\n"
     ]
    }
   ],
   "source": [
    "print(\"НОК: \", func(a, b))"
   ],
   "metadata": {
    "collapsed": false,
    "ExecuteTime": {
     "end_time": "2023-11-06T08:55:13.712996Z",
     "start_time": "2023-11-06T08:55:13.686487Z"
    }
   },
   "id": "702933cfefde4cd2"
  }
 ],
 "metadata": {
  "kernelspec": {
   "display_name": "Python 3",
   "language": "python",
   "name": "python3"
  },
  "language_info": {
   "codemirror_mode": {
    "name": "ipython",
    "version": 2
   },
   "file_extension": ".py",
   "mimetype": "text/x-python",
   "name": "python",
   "nbconvert_exporter": "python",
   "pygments_lexer": "ipython2",
   "version": "2.7.6"
  }
 },
 "nbformat": 4,
 "nbformat_minor": 5
}
