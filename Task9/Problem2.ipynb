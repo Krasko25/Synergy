{
 "cells": [
  {
   "cell_type": "markdown",
   "source": [
    "**Задание 2:** Напишите программу, которая будет находить все простые числа от 1 до n.\n",
    "**Ввод:** число n\n",
    "**Вывод:** список простых чисел от 1 до n"
   ],
   "metadata": {
    "collapsed": false
   },
   "id": "abe7990a0160b955"
  },
  {
   "cell_type": "code",
   "execution_count": 37,
   "outputs": [],
   "source": [
    "#для удобства вынесу определение того, является ли число простым, в отдельную функцию\n",
    "def prime_num(num):\n",
    "    \n",
    "    #проверяем делители только до половины + 1, так как дальше проверять смысла нет\n",
    "    for j in range(2, num // 2 + 1):\n",
    "        \n",
    "        #возвращаем False при первом же целочисленном делителе\n",
    "        if num % j == 0:\n",
    "            return False\n",
    "    return True"
   ],
   "metadata": {
    "collapsed": false,
    "ExecuteTime": {
     "end_time": "2023-11-15T09:23:27.063764Z",
     "start_time": "2023-11-15T09:23:27.033539Z"
    }
   },
   "id": "2a300585f7b0e3fc"
  },
  {
   "cell_type": "code",
   "execution_count": 38,
   "outputs": [],
   "source": [
    "n = int(input())\n",
    "\n",
    "simple_ones = []"
   ],
   "metadata": {
    "collapsed": false,
    "ExecuteTime": {
     "end_time": "2023-11-15T09:23:28.532951Z",
     "start_time": "2023-11-15T09:23:27.064175Z"
    }
   },
   "id": "63f2c514a871f0fa"
  },
  {
   "cell_type": "code",
   "execution_count": 39,
   "outputs": [
    {
     "name": "stdout",
     "output_type": "stream",
     "text": [
      "Простые числа от 1 до -10:\n"
     ]
    }
   ],
   "source": [
    "for i in range(2, n+1):\n",
    "    if prime_num(i):\n",
    "        #записываем простые числа в список\n",
    "        simple_ones.append(i)\n",
    "\n",
    "print(f'Список всех простых чисел от 1 до {n}:', *simple_ones)"
   ],
   "metadata": {
    "collapsed": false,
    "ExecuteTime": {
     "end_time": "2023-11-15T09:23:28.547284Z",
     "start_time": "2023-11-15T09:23:28.493740Z"
    }
   },
   "id": "d5b95c255bb64300"
  }
 ],
 "metadata": {
  "kernelspec": {
   "display_name": "Python 3",
   "language": "python",
   "name": "python3"
  },
  "language_info": {
   "codemirror_mode": {
    "name": "ipython",
    "version": 2
   },
   "file_extension": ".py",
   "mimetype": "text/x-python",
   "name": "python",
   "nbconvert_exporter": "python",
   "pygments_lexer": "ipython2",
   "version": "2.7.6"
  }
 },
 "nbformat": 4,
 "nbformat_minor": 5
}
