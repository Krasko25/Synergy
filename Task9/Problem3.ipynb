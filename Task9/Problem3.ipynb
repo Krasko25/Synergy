{
 "cells": [
  {
   "cell_type": "markdown",
   "source": [
    "**Задание 3:**\n",
    "Напишите программу, которая будет находить все делители числа n.\n",
    "**Ввод:** число n\n",
    "**Вывод:** список делителей числа n"
   ],
   "metadata": {
    "collapsed": false
   },
   "id": "25242ac61de9d739"
  },
  {
   "cell_type": "code",
   "execution_count": 4,
   "outputs": [],
   "source": [
    "n = int(input())\n",
    "\n",
    "dividers = []"
   ],
   "metadata": {
    "collapsed": false,
    "ExecuteTime": {
     "end_time": "2023-11-15T09:32:49.278385Z",
     "start_time": "2023-11-15T09:32:47.507768Z"
    }
   },
   "id": "ceb58219998b2e7b"
  },
  {
   "cell_type": "code",
   "execution_count": 5,
   "outputs": [],
   "source": [
    "for i in range(1, n+1):\n",
    "    if n % i == 0:\n",
    "        dividers.append(i)"
   ],
   "metadata": {
    "collapsed": false,
    "ExecuteTime": {
     "end_time": "2023-11-15T09:32:49.279620Z",
     "start_time": "2023-11-15T09:32:49.249596Z"
    }
   },
   "id": "9d69064cbc8b6f7c"
  },
  {
   "cell_type": "code",
   "execution_count": 6,
   "outputs": [
    {
     "name": "stdout",
     "output_type": "stream",
     "text": [
      "Список всех делителей числа 100: 1 2 4 5 10 20 25 50 100\n"
     ]
    }
   ],
   "source": [
    "print(f'Список всех делителей числа {n}:', *dividers)"
   ],
   "metadata": {
    "collapsed": false,
    "ExecuteTime": {
     "end_time": "2023-11-15T09:32:49.280265Z",
     "start_time": "2023-11-15T09:32:49.264510Z"
    }
   },
   "id": "bf662bfe3096c469"
  }
 ],
 "metadata": {
  "kernelspec": {
   "display_name": "Python 3",
   "language": "python",
   "name": "python3"
  },
  "language_info": {
   "codemirror_mode": {
    "name": "ipython",
    "version": 2
   },
   "file_extension": ".py",
   "mimetype": "text/x-python",
   "name": "python",
   "nbconvert_exporter": "python",
   "pygments_lexer": "ipython2",
   "version": "2.7.6"
  }
 },
 "nbformat": 4,
 "nbformat_minor": 5
}
